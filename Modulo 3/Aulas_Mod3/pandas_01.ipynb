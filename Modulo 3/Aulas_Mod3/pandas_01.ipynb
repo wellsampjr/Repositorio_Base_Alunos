{
 "cells": [
  {
   "cell_type": "markdown",
   "id": "b483dd5d",
   "metadata": {
    "id": "b483dd5d"
   },
   "source": [
    "# Primeiros passos com Pandas"
   ]
  },
  {
   "cell_type": "markdown",
   "id": "efb29248",
   "metadata": {
    "id": "efb29248"
   },
   "source": [
    "Para instalar o Pandas rode no terminal:\n",
    "\n",
    "```\n",
    "pip install pandas\n",
    "```\n"
   ]
  },
  {
   "cell_type": "markdown",
   "id": "ce69adf3",
   "metadata": {
    "id": "ce69adf3",
    "vscode": {
     "languageId": "plaintext"
    }
   },
   "source": [
    "para importar o pandas:"
   ]
  },
  {
   "cell_type": "code",
   "execution_count": 1,
   "id": "a7cb4b5d",
   "metadata": {
    "executionInfo": {
     "elapsed": 323,
     "status": "ok",
     "timestamp": 1760381532590,
     "user": {
      "displayName": "Mateus Sousa",
      "userId": "07850431604373835477"
     },
     "user_tz": 180
    },
    "id": "a7cb4b5d"
   },
   "outputs": [],
   "source": [
    "import pandas as pd"
   ]
  },
  {
   "cell_type": "markdown",
   "id": "84231a2d",
   "metadata": {
    "id": "84231a2d"
   },
   "source": [
    "Os principais objetos Pandas são Series e DataFrames"
   ]
  },
  {
   "cell_type": "markdown",
   "id": "8bc93fdc",
   "metadata": {
    "id": "8bc93fdc"
   },
   "source": [
    "## Series"
   ]
  },
  {
   "cell_type": "markdown",
   "id": "fcf70cbf",
   "metadata": {
    "id": "fcf70cbf"
   },
   "source": [
    "Uma Series no Pandas é uma estrutura de dados unidimensional, parecida com uma coluna de uma planilha. Ela armazena uma sequência de valores (como números, textos ou datas) acompanhados de um índice, que identifica cada elemento. Esse índice pode ser automático (0, 1, 2...) ou personalizado. As Series são muito úteis para representar e manipular listas de dados com rótulos, permitindo fazer operações matemáticas, filtragens e análises de forma simples e eficiente."
   ]
  },
  {
   "cell_type": "markdown",
   "id": "e62a705e",
   "metadata": {
    "id": "e62a705e"
   },
   "source": [
    "Os principais métodos de uma Series:\n",
    "\n",
    "| Método                   | Descrição                                                 |\n",
    "| :----------------------- | :-------------------------------------------------------- |\n",
    "| `head(n)`                | Mostra os primeiros *n* elementos da Series (padrão = 5). |\n",
    "| `tail(n)`                | Mostra os últimos *n* elementos da Series.                |\n",
    "| `unique()`               | Retorna os valores únicos da Series.                      |\n",
    "| `value_counts()`         | Conta quantas vezes cada valor aparece.                   |\n",
    "| `mean()`                 | Calcula a média dos valores numéricos.                    |\n",
    "| `sum()`                  | Retorna a soma dos valores.                               |\n",
    "| `max()` / `min()`        | Retorna o maior ou menor valor.                           |\n",
    "| `sort_values()`          | Ordena os valores da Series.                              |\n",
    "| `isnull()` / `notnull()` | Verifica se há valores nulos (NaN).                       |\n",
    "| `apply(func)`            | Aplica uma função personalizada a cada elemento.          |\n"
   ]
  },
  {
   "cell_type": "markdown",
   "id": "5d6df571",
   "metadata": {
    "id": "5d6df571"
   },
   "source": [
    "No exemplo abaixo vemos uma lista de 100 notas que foram transformadas em uma Series Pandas. Repare em como cada nota tem um índice quando exibimos o resultado"
   ]
  },
  {
   "cell_type": "code",
   "execution_count": null,
   "id": "441ea89a",
   "metadata": {
    "colab": {
     "base_uri": "https://localhost:8080/"
    },
    "executionInfo": {
     "elapsed": 12,
     "status": "ok",
     "timestamp": 1760381695272,
     "user": {
      "displayName": "Mateus Sousa",
      "userId": "07850431604373835477"
     },
     "user_tz": 180
    },
    "id": "441ea89a",
    "outputId": "d42514d0-381e-43c8-88f0-f8a6899a22b8"
   },
   "outputs": [
    {
     "name": "stdout",
     "output_type": "stream",
     "text": [
      "Tipo da variável:  <class 'list'>\n",
      "Tipo da variável:  <class 'pandas.core.series.Series'>\n",
      "0     1\n",
      "1     0\n",
      "2     6\n",
      "3     3\n",
      "4     6\n",
      "     ..\n",
      "95    0\n",
      "96    9\n",
      "97    6\n",
      "98    7\n",
      "99    4\n",
      "Length: 100, dtype: int64\n"
     ]
    }
   ],
   "source": [
    "# Lista com 100 notas inteiras\n",
    "notas = [ T9,\n",
    "        8,  1, 10,  1,  9,  1,  4,  2,  6,  3,  5, 10,  0, 10,  6,  0,  7,\n",
    "        7,  6,  7,  4,  4,  8,  9,  5,  5,  0, 10,  4,  3,  0,  2, 10,  1,\n",
    "       10,  4,  7,  1,  7,  0,  7,  0,  3, 10,  6,  7,  0,  3,  6,  3,  7,\n",
    "        3,  6,  8,  3,  6,  8,  6,  3,  9,  5,  0,  4,  9,  7,  0,  5,  7,\n",
    "        8,  8,  3,  5,  9, 10,  5,  6,  4,  6,  0,  9,  6,  7,  4]\n",
    "print('Tipo da variável: ',type(notas)) # Verifica o tipo original\n",
    "\n",
    "# Transforma a lista em Series\n",
    "notas = pd.Series(notas)\n",
    "print('Tipo da variável: ',type(notas)) # Verifica o tipo após a mudança\n",
    "print(notas) # Exibe a Series"
   ]
  },
  {
   "cell_type": "markdown",
   "id": "ad504328",
   "metadata": {
    "id": "ad504328"
   },
   "source": [
    "Exibindo as 5 primeiras e últimas notas"
   ]
  },
  {
   "cell_type": "code",
   "execution_count": 3,
   "id": "74cd335c",
   "metadata": {
    "colab": {
     "base_uri": "https://localhost:8080/",
     "height": 147
    },
    "executionInfo": {
     "elapsed": 5,
     "status": "ok",
     "timestamp": 1760381758284,
     "user": {
      "displayName": "Mateus Sousa",
      "userId": "07850431604373835477"
     },
     "user_tz": 180
    },
    "id": "74cd335c",
    "outputId": "c33dcb6b-4239-4c30-a3b2-a6371f1619c6"
   },
   "outputs": [
    {
     "data": {
      "text/plain": [
       "0    1\n",
       "1    0\n",
       "dtype: int64"
      ]
     },
     "execution_count": 3,
     "metadata": {},
     "output_type": "execute_result"
    }
   ],
   "source": [
    "# 5 primeiras notas\n",
    "notas.head(2)"
   ]
  },
  {
   "cell_type": "code",
   "execution_count": 4,
   "id": "9ae44880",
   "metadata": {
    "colab": {
     "base_uri": "https://localhost:8080/",
     "height": 147
    },
    "executionInfo": {
     "elapsed": 15,
     "status": "ok",
     "timestamp": 1760381775920,
     "user": {
      "displayName": "Mateus Sousa",
      "userId": "07850431604373835477"
     },
     "user_tz": 180
    },
    "id": "9ae44880",
    "outputId": "940a2806-3a84-453b-9dfb-dc9d2ea9c8f9"
   },
   "outputs": [
    {
     "data": {
      "text/plain": [
       "98    7\n",
       "99    4\n",
       "dtype: int64"
      ]
     },
     "execution_count": 4,
     "metadata": {},
     "output_type": "execute_result"
    }
   ],
   "source": [
    "# 5 últimas notas\n",
    "notas.tail(2)"
   ]
  },
  {
   "cell_type": "markdown",
   "id": "6bfed3ea",
   "metadata": {
    "id": "6bfed3ea"
   },
   "source": [
    "Exibindo somente as notas \"únicas\" (sem repetições)"
   ]
  },
  {
   "cell_type": "code",
   "execution_count": 5,
   "id": "5e489557",
   "metadata": {
    "colab": {
     "base_uri": "https://localhost:8080/"
    },
    "executionInfo": {
     "elapsed": 6,
     "status": "ok",
     "timestamp": 1760381782379,
     "user": {
      "displayName": "Mateus Sousa",
      "userId": "07850431604373835477"
     },
     "user_tz": 180
    },
    "id": "5e489557",
    "outputId": "8b8f510f-4a7b-4638-e4a2-aa4e6dd76b46"
   },
   "outputs": [
    {
     "data": {
      "text/plain": [
       "array([ 1,  0,  6,  3,  4,  9,  5,  2, 10,  8,  7])"
      ]
     },
     "execution_count": 5,
     "metadata": {},
     "output_type": "execute_result"
    }
   ],
   "source": [
    "notas.unique()"
   ]
  },
  {
   "cell_type": "markdown",
   "id": "778a0f20",
   "metadata": {
    "id": "778a0f20"
   },
   "source": [
    "Exibindo a quantidade de ocorrências de cada nota"
   ]
  },
  {
   "cell_type": "code",
   "execution_count": 6,
   "id": "06c2f63a",
   "metadata": {
    "colab": {
     "base_uri": "https://localhost:8080/",
     "height": 429
    },
    "executionInfo": {
     "elapsed": 17,
     "status": "ok",
     "timestamp": 1760381789983,
     "user": {
      "displayName": "Mateus Sousa",
      "userId": "07850431604373835477"
     },
     "user_tz": 180
    },
    "id": "06c2f63a",
    "outputId": "95ab864d-68a5-4341-9b83-aa49a710e34e"
   },
   "outputs": [
    {
     "data": {
      "text/plain": [
       "6     13\n",
       "0     11\n",
       "3     11\n",
       "9     11\n",
       "4     11\n",
       "7     11\n",
       "10     9\n",
       "5      8\n",
       "1      6\n",
       "8      6\n",
       "2      3\n",
       "Name: count, dtype: int64"
      ]
     },
     "execution_count": 6,
     "metadata": {},
     "output_type": "execute_result"
    }
   ],
   "source": [
    "notas.value_counts()"
   ]
  },
  {
   "cell_type": "markdown",
   "id": "20b73880",
   "metadata": {
    "id": "20b73880"
   },
   "source": [
    "Não deixe de testar os outros métodos"
   ]
  },
  {
   "cell_type": "markdown",
   "id": "2aa7f0f4",
   "metadata": {
    "id": "2aa7f0f4"
   },
   "source": [
    "---"
   ]
  },
  {
   "cell_type": "markdown",
   "id": "d58c86ed",
   "metadata": {
    "id": "d58c86ed"
   },
   "source": [
    "## DataFrames"
   ]
  },
  {
   "cell_type": "markdown",
   "id": "654d67fe",
   "metadata": {
    "id": "654d67fe"
   },
   "source": [
    "Um DataFrame é a estrutura de dados bidimensional do Pandas, semelhante a uma tabela do Excel, com linhas e colunas. Cada coluna de um DataFrame é, na verdade, uma Series, o que permite trabalhar com diferentes tipos de dados (números, textos, datas, etc.) ao mesmo tempo. Essa estrutura é ideal para armazenar, organizar e analisar grandes conjuntos de dados, permitindo realizar operações como filtragem, agrupamento, cálculos estatísticos e muito mais de forma rápida e intuitiva."
   ]
  },
  {
   "cell_type": "markdown",
   "id": "eb6fbd58",
   "metadata": {
    "id": "eb6fbd58"
   },
   "source": [
    "Principais métodos de um DataFrame:\n",
    "\n",
    "| Método                    | Descrição                                                        |\n",
    "| :------------------------ | :--------------------------------------------------------------- |\n",
    "| `head(n)`                 | Mostra as primeiras *n* linhas do DataFrame.                     |\n",
    "| `info()`                  | Exibe informações sobre colunas, tipos de dados e valores nulos. |\n",
    "| `describe()`              | Gera estatísticas descritivas (média, desvio padrão, etc.).      |\n",
    "| `shape`                   | Retorna o número de linhas e colunas (tupla).                    |\n",
    "| `columns`                 | Mostra os nomes das colunas.                                     |\n",
    "| `dtypes`                  | Mostra o tipo de dado de cada coluna.                            |\n",
    "| `loc[]`                   | Acessa linhas e colunas pelo nome.                               |\n",
    "| `iloc[]`                  | Acessa linhas e colunas pela posição.                            |\n",
    "| `drop()`                  | Remove colunas ou linhas.                                        |\n",
    "| `groupby()`               | Agrupa os dados com base em uma ou mais colunas.                 |\n",
    "| `sort_values()`           | Ordena os dados por uma coluna específica.                       |\n",
    "| `fillna()`                | Substitui valores nulos (NaN) por outro valor.                   |\n",
    "| `merge()`                 | Junta dois DataFrames (como em SQL JOIN).                        |\n",
    "| `to_csv()` / `read_csv()` | Exporta ou importa dados em formato CSV.                         |\n"
   ]
  },
  {
   "cell_type": "markdown",
   "id": "3a727cec",
   "metadata": {
    "id": "3a727cec"
   },
   "source": [
    "Geralmente o objeto DataFrame é criado automáticamente quando importamos um conjunto de dados usando pd.read_excel() ou qualquer função do tipo, por exemplo.\n",
    "\n",
    "Mas neste momento vamos criar um DataFrame do zero para entender melhor como ele funciona"
   ]
  },
  {
   "cell_type": "code",
   "execution_count": 7,
   "id": "f7343d9f",
   "metadata": {
    "colab": {
     "base_uri": "https://localhost:8080/",
     "height": 300
    },
    "executionInfo": {
     "elapsed": 54,
     "status": "ok",
     "timestamp": 1760381863807,
     "user": {
      "displayName": "Mateus Sousa",
      "userId": "07850431604373835477"
     },
     "user_tz": 180
    },
    "id": "f7343d9f",
    "outputId": "fe08ffd9-4f25-474e-cbd3-ca130a109fa9"
   },
   "outputs": [
    {
     "data": {
      "text/html": [
       "<div>\n",
       "<style scoped>\n",
       "    .dataframe tbody tr th:only-of-type {\n",
       "        vertical-align: middle;\n",
       "    }\n",
       "\n",
       "    .dataframe tbody tr th {\n",
       "        vertical-align: top;\n",
       "    }\n",
       "\n",
       "    .dataframe thead th {\n",
       "        text-align: right;\n",
       "    }\n",
       "</style>\n",
       "<table border=\"1\" class=\"dataframe\">\n",
       "  <thead>\n",
       "    <tr style=\"text-align: right;\">\n",
       "      <th></th>\n",
       "      <th>nomes</th>\n",
       "      <th>notas</th>\n",
       "    </tr>\n",
       "  </thead>\n",
       "  <tbody>\n",
       "    <tr>\n",
       "      <th>0</th>\n",
       "      <td>Joao</td>\n",
       "      <td>8</td>\n",
       "    </tr>\n",
       "    <tr>\n",
       "      <th>1</th>\n",
       "      <td>Maria</td>\n",
       "      <td>9</td>\n",
       "    </tr>\n",
       "    <tr>\n",
       "      <th>2</th>\n",
       "      <td>Fernanda</td>\n",
       "      <td>5</td>\n",
       "    </tr>\n",
       "    <tr>\n",
       "      <th>3</th>\n",
       "      <td>Pedro</td>\n",
       "      <td>5</td>\n",
       "    </tr>\n",
       "    <tr>\n",
       "      <th>4</th>\n",
       "      <td>Robson</td>\n",
       "      <td>10</td>\n",
       "    </tr>\n",
       "    <tr>\n",
       "      <th>5</th>\n",
       "      <td>Moacir</td>\n",
       "      <td>4</td>\n",
       "    </tr>\n",
       "    <tr>\n",
       "      <th>6</th>\n",
       "      <td>Alex</td>\n",
       "      <td>3</td>\n",
       "    </tr>\n",
       "    <tr>\n",
       "      <th>7</th>\n",
       "      <td>Lara</td>\n",
       "      <td>2</td>\n",
       "    </tr>\n",
       "  </tbody>\n",
       "</table>\n",
       "</div>"
      ],
      "text/plain": [
       "      nomes  notas\n",
       "0      Joao      8\n",
       "1     Maria      9\n",
       "2  Fernanda      5\n",
       "3     Pedro      5\n",
       "4    Robson     10\n",
       "5    Moacir      4\n",
       "6      Alex      3\n",
       "7      Lara      2"
      ]
     },
     "execution_count": 7,
     "metadata": {},
     "output_type": "execute_result"
    }
   ],
   "source": [
    "dados = {\n",
    "    'nomes' : ['Joao', 'Maria', 'Fernanda', 'Pedro', 'Robson', 'Moacir', 'Alex', 'Lara'],\n",
    "    'notas' : [8,  9,  5,  5, 10,  4,  3, 2]\n",
    "    }\n",
    "\n",
    "\n",
    "df = pd.DataFrame(dados)\n",
    "df"
   ]
  },
  {
   "cell_type": "markdown",
   "id": "1b11491c",
   "metadata": {
    "id": "1b11491c"
   },
   "source": [
    "Para selecionar apenas uma colunas funciona de maneira semelhante à acessar uma chave de um dicionário. Porém com o detalhe que o objeto retornado é uma Series."
   ]
  },
  {
   "cell_type": "code",
   "execution_count": 8,
   "id": "754d52cc",
   "metadata": {
    "colab": {
     "base_uri": "https://localhost:8080/",
     "height": 335
    },
    "executionInfo": {
     "elapsed": 7,
     "status": "ok",
     "timestamp": 1760381875668,
     "user": {
      "displayName": "Mateus Sousa",
      "userId": "07850431604373835477"
     },
     "user_tz": 180
    },
    "id": "754d52cc",
    "outputId": "9e9159f5-8c81-4874-dcbb-29ac01d0cb95"
   },
   "outputs": [
    {
     "data": {
      "text/plain": [
       "0        Joao\n",
       "1       Maria\n",
       "2    Fernanda\n",
       "3       Pedro\n",
       "4      Robson\n",
       "5      Moacir\n",
       "6        Alex\n",
       "7        Lara\n",
       "Name: nomes, dtype: object"
      ]
     },
     "execution_count": 8,
     "metadata": {},
     "output_type": "execute_result"
    }
   ],
   "source": [
    "# Selecionando apenas a coluna 'nomes'\n",
    "df['nomes']"
   ]
  },
  {
   "cell_type": "code",
   "execution_count": 9,
   "id": "29d6418b",
   "metadata": {
    "id": "29d6418b",
    "outputId": "037e63cb-f599-4084-ba34-1f0925af37cc"
   },
   "outputs": [
    {
     "data": {
      "text/plain": [
       "0     8\n",
       "1     9\n",
       "2     5\n",
       "3     5\n",
       "4    10\n",
       "5     4\n",
       "6     3\n",
       "7     2\n",
       "Name: notas, dtype: int64"
      ]
     },
     "execution_count": 9,
     "metadata": {},
     "output_type": "execute_result"
    }
   ],
   "source": [
    "# selecionando apenas a coluna 'notas'\n",
    "df['notas']"
   ]
  },
  {
   "cell_type": "markdown",
   "id": "d556a704",
   "metadata": {
    "id": "d556a704"
   },
   "source": [
    "Descobrindo a média de todas as notas:"
   ]
  },
  {
   "cell_type": "code",
   "execution_count": 10,
   "id": "8c6d61f5",
   "metadata": {
    "id": "8c6d61f5",
    "outputId": "df40b3d2-c452-4c6a-baed-550a40439c13"
   },
   "outputs": [
    {
     "data": {
      "text/plain": [
       "np.float64(5.75)"
      ]
     },
     "execution_count": 10,
     "metadata": {},
     "output_type": "execute_result"
    }
   ],
   "source": [
    "df['notas'].mean()"
   ]
  },
  {
   "cell_type": "markdown",
   "id": "ead15560",
   "metadata": {
    "id": "ead15560"
   },
   "source": [
    "Para filtrar um registro:"
   ]
  },
  {
   "cell_type": "code",
   "execution_count": 11,
   "id": "3cad87b6",
   "metadata": {
    "id": "3cad87b6",
    "outputId": "ac6774a7-02bd-4ca6-e0f5-1553afbc2297"
   },
   "outputs": [
    {
     "data": {
      "text/plain": [
       "0     True\n",
       "1     True\n",
       "2    False\n",
       "3    False\n",
       "4     True\n",
       "5    False\n",
       "6    False\n",
       "7    False\n",
       "Name: notas, dtype: bool"
      ]
     },
     "execution_count": 11,
     "metadata": {},
     "output_type": "execute_result"
    }
   ],
   "source": [
    "# Isso gera uma Series de True/False (Bool)\n",
    "df['notas'] > 5 # Lista de Verdadeiros e Falsos"
   ]
  },
  {
   "cell_type": "markdown",
   "id": "cb0e8b30",
   "metadata": {
    "id": "cb0e8b30"
   },
   "source": [
    "Nós podemos transformar essa Series de volta em um Dataframe passando esta mesma linha de código no colchetes do DataFrame"
   ]
  },
  {
   "cell_type": "code",
   "execution_count": 12,
   "id": "e95a624a",
   "metadata": {
    "id": "e95a624a",
    "outputId": "9328e8a2-0571-4daa-82a4-869644d43f52"
   },
   "outputs": [
    {
     "data": {
      "text/html": [
       "<div>\n",
       "<style scoped>\n",
       "    .dataframe tbody tr th:only-of-type {\n",
       "        vertical-align: middle;\n",
       "    }\n",
       "\n",
       "    .dataframe tbody tr th {\n",
       "        vertical-align: top;\n",
       "    }\n",
       "\n",
       "    .dataframe thead th {\n",
       "        text-align: right;\n",
       "    }\n",
       "</style>\n",
       "<table border=\"1\" class=\"dataframe\">\n",
       "  <thead>\n",
       "    <tr style=\"text-align: right;\">\n",
       "      <th></th>\n",
       "      <th>nomes</th>\n",
       "      <th>notas</th>\n",
       "    </tr>\n",
       "  </thead>\n",
       "  <tbody>\n",
       "    <tr>\n",
       "      <th>0</th>\n",
       "      <td>Joao</td>\n",
       "      <td>8</td>\n",
       "    </tr>\n",
       "    <tr>\n",
       "      <th>1</th>\n",
       "      <td>Maria</td>\n",
       "      <td>9</td>\n",
       "    </tr>\n",
       "    <tr>\n",
       "      <th>4</th>\n",
       "      <td>Robson</td>\n",
       "      <td>10</td>\n",
       "    </tr>\n",
       "  </tbody>\n",
       "</table>\n",
       "</div>"
      ],
      "text/plain": [
       "    nomes  notas\n",
       "0    Joao      8\n",
       "1   Maria      9\n",
       "4  Robson     10"
      ]
     },
     "execution_count": 12,
     "metadata": {},
     "output_type": "execute_result"
    }
   ],
   "source": [
    "df[df['notas'] > 5] # Desta maneira podemos usar a lógica booleana para filtrar linhas em um DataFrame"
   ]
  },
  {
   "cell_type": "markdown",
   "id": "62c642a4",
   "metadata": {
    "id": "62c642a4"
   },
   "source": [
    "## Analizando um pouco melhor o DataFrame"
   ]
  },
  {
   "cell_type": "markdown",
   "id": "d7e1ffbc",
   "metadata": {
    "id": "d7e1ffbc"
   },
   "source": [
    "Com o DataFrame em mãos, podemos verificar algumas informações importantes sobre a quantidade de linhas e colunas, tipos de dados, tamanho em bytes ocupado na memória e etc utilizando o método **df.info()**"
   ]
  },
  {
   "cell_type": "code",
   "execution_count": 13,
   "id": "7411666d",
   "metadata": {
    "id": "7411666d",
    "outputId": "e2e785e7-4d40-49d4-b32a-ba4d12363ea5"
   },
   "outputs": [
    {
     "name": "stdout",
     "output_type": "stream",
     "text": [
      "<class 'pandas.core.frame.DataFrame'>\n",
      "RangeIndex: 8 entries, 0 to 7\n",
      "Data columns (total 2 columns):\n",
      " #   Column  Non-Null Count  Dtype \n",
      "---  ------  --------------  ----- \n",
      " 0   nomes   8 non-null      object\n",
      " 1   notas   8 non-null      int64 \n",
      "dtypes: int64(1), object(1)\n",
      "memory usage: 260.0+ bytes\n"
     ]
    }
   ],
   "source": [
    "df.info()"
   ]
  },
  {
   "cell_type": "markdown",
   "id": "8df010b9",
   "metadata": {
    "id": "8df010b9"
   },
   "source": [
    "---"
   ]
  },
  {
   "cell_type": "markdown",
   "id": "05e2a0a8",
   "metadata": {
    "id": "05e2a0a8"
   },
   "source": [
    "Informações do DataFrame:\n",
    "- Podemos ver o tipo da variável = 'pandas.core.frame.DataFrame'\n",
    "- A quantidade de linhas do DataFrame (RangeIndex) = 8 entries, 0 to 7 (Significa que tem 8 linhas e o índice vai de 0 à 7)\n",
    "- A quantidade de colunas (Data columns) = total 2 columns (Duas colunas)\n",
    "\n",
    "Em seguida vemos informações sobre as colunas:\n",
    "- O nome (Column) = informa em ordem o nome das colunas\n",
    "- Non-Null Count = informa a quantidade de registros 'não vazios' naquela coluna\n",
    "- Dtype = Informa o tipo de dados contidos naquela coluna (object significa que é uma coluna de strings)\n",
    "\n",
    "Por últimos temos:\n",
    "- dtypes = uma relação de todos os tipos de colunas\n",
    "- memory usage = o espaço que o dataframe ocupa na memória ram enquanto o script python está sendo executado"
   ]
  },
  {
   "cell_type": "markdown",
   "id": "4d605ec7",
   "metadata": {
    "id": "4d605ec7"
   },
   "source": [
    "# Exercícios"
   ]
  },
  {
   "cell_type": "markdown",
   "id": "4d6b2451",
   "metadata": {
    "id": "4d6b2451"
   },
   "source": [
    "## 1 - Importe 'pandas' como pd"
   ]
  },
  {
   "cell_type": "code",
   "execution_count": 22,
   "id": "4a10c1bf",
   "metadata": {
    "id": "4a10c1bf"
   },
   "outputs": [],
   "source": [
    "import pandas as pd"
   ]
  },
  {
   "cell_type": "markdown",
   "id": "75db6450",
   "metadata": {
    "id": "75db6450"
   },
   "source": [
    "## 2 - Transforme o dicionário abaixo em um DataFrame e exiba a tabela Dataframe\n"
   ]
  },
  {
   "cell_type": "code",
   "execution_count": 14,
   "id": "6d2a1c74",
   "metadata": {
    "id": "6d2a1c74"
   },
   "outputs": [],
   "source": [
    "funcionarios = {\n",
    "    \"nome\": [\n",
    "        \"Ana Souza\", \"Bruno Lima\", \"Carla Ferreira\", \"Diego Santos\", \"Eduarda Nascimento\",\n",
    "        \"Felipe Almeida\", \"Giovana Ramos\", \"Henrique Costa\", \"Isabela Araujo\", \"João Pereira\",\n",
    "        \"Karina Oliveira\", \"Lucas Rodrigues\", \"Mariana Machado\", \"Nathan Silva\", \"Olívia Barbosa\"\n",
    "    ],\n",
    "    \"unidade\": [\n",
    "        2, 1, 3, 2, 1,\n",
    "        3, 1, 2, 3, 1,\n",
    "        2, 3, 1, 3, 2\n",
    "    ],\n",
    "    \"escala_noturna\": [\n",
    "        False, True, False, True, False,\n",
    "        True, False, True, False, True,\n",
    "        False, True, False, True, False\n",
    "    ],\n",
    "    \"vendas\": [\n",
    "        18754.32, 24321.89, 19876.45, 27543.22, 15789.66,\n",
    "        29123.10, 22345.99, 26789.40, 19456.78, 28345.55,\n",
    "        17654.12, 23876.99, 20543.70, 29654.88, 18321.44\n",
    "    ]\n",
    "}\n"
   ]
  },
  {
   "cell_type": "code",
   "execution_count": 23,
   "id": "1304848b",
   "metadata": {
    "id": "1304848b"
   },
   "outputs": [],
   "source": [
    "df_novo = pd.DataFrame(funcionarios)"
   ]
  },
  {
   "cell_type": "code",
   "execution_count": 15,
   "id": "752e9f84",
   "metadata": {
    "id": "752e9f84",
    "outputId": "9c721be6-e16f-4db1-dea8-f18895040df5"
   },
   "outputs": [],
   "source": [
    "# Não rode essa linha de código para não perder o resultado de exemplo"
   ]
  },
  {
   "cell_type": "markdown",
   "id": "76b09b46",
   "metadata": {
    "id": "76b09b46"
   },
   "source": [
    "## 3 - Exiba as informações de dimensões, linhas, colunas e tipos de dados do DataFrame"
   ]
  },
  {
   "cell_type": "code",
   "execution_count": 25,
   "id": "08f8f311",
   "metadata": {
    "id": "08f8f311"
   },
   "outputs": [
    {
     "name": "stdout",
     "output_type": "stream",
     "text": [
      "<class 'pandas.core.frame.DataFrame'>\n",
      "RangeIndex: 15 entries, 0 to 14\n",
      "Data columns (total 4 columns):\n",
      " #   Column          Non-Null Count  Dtype  \n",
      "---  ------          --------------  -----  \n",
      " 0   nome            15 non-null     object \n",
      " 1   unidade         15 non-null     int64  \n",
      " 2   escala_noturna  15 non-null     bool   \n",
      " 3   vendas          15 non-null     float64\n",
      "dtypes: bool(1), float64(1), int64(1), object(1)\n",
      "memory usage: 507.0+ bytes\n"
     ]
    }
   ],
   "source": [
    "df_novo.info()"
   ]
  },
  {
   "cell_type": "code",
   "execution_count": 16,
   "id": "a7243741",
   "metadata": {
    "id": "a7243741",
    "outputId": "6d248dd0-1167-441b-ea12-5be8c871bcec"
   },
   "outputs": [],
   "source": [
    "# Não rode essa linha de código para não perder o resultado de exemplo"
   ]
  },
  {
   "cell_type": "markdown",
   "id": "6d31f2c5",
   "metadata": {
    "id": "6d31f2c5"
   },
   "source": [
    "## 4 - Quantos funcionários temos em cada unidade? dica: utilize o método value_counts()"
   ]
  },
  {
   "cell_type": "code",
   "execution_count": 26,
   "id": "fa88eaef",
   "metadata": {
    "id": "fa88eaef"
   },
   "outputs": [
    {
     "data": {
      "text/plain": [
       "nome                unidade  escala_noturna  vendas  \n",
       "Ana Souza           2        False           18754.32    1\n",
       "Bruno Lima          1        True            24321.89    1\n",
       "Carla Ferreira      3        False           19876.45    1\n",
       "Diego Santos        2        True            27543.22    1\n",
       "Eduarda Nascimento  1        False           15789.66    1\n",
       "Felipe Almeida      3        True            29123.10    1\n",
       "Giovana Ramos       1        False           22345.99    1\n",
       "Henrique Costa      2        True            26789.40    1\n",
       "Isabela Araujo      3        False           19456.78    1\n",
       "João Pereira        1        True            28345.55    1\n",
       "Karina Oliveira     2        False           17654.12    1\n",
       "Lucas Rodrigues     3        True            23876.99    1\n",
       "Mariana Machado     1        False           20543.70    1\n",
       "Nathan Silva        3        True            29654.88    1\n",
       "Olívia Barbosa      2        False           18321.44    1\n",
       "Name: count, dtype: int64"
      ]
     },
     "execution_count": 26,
     "metadata": {},
     "output_type": "execute_result"
    }
   ],
   "source": [
    "df_novo.value_counts()"
   ]
  },
  {
   "cell_type": "code",
   "execution_count": 17,
   "id": "b44052b3",
   "metadata": {
    "id": "b44052b3",
    "outputId": "4fe0ffa7-f6e5-4754-e834-625b3aa6be49"
   },
   "outputs": [],
   "source": [
    "# Não rode essa linha de código para não perder o resultado de exemplo"
   ]
  },
  {
   "cell_type": "markdown",
   "id": "1353cf5f",
   "metadata": {
    "id": "1353cf5f"
   },
   "source": [
    "## 5 - Seguindo a mesma lógica do exercício anterior, quantos funcionários trabalham de noite ou de dia"
   ]
  },
  {
   "cell_type": "code",
   "execution_count": 29,
   "id": "732043b5",
   "metadata": {
    "id": "732043b5"
   },
   "outputs": [
    {
     "data": {
      "text/plain": [
       "escala_noturna\n",
       "False    8\n",
       "True     7\n",
       "Name: count, dtype: int64"
      ]
     },
     "execution_count": 29,
     "metadata": {},
     "output_type": "execute_result"
    }
   ],
   "source": [
    "df_novo[\"escala_noturna\"].value_counts()"
   ]
  },
  {
   "cell_type": "code",
   "execution_count": 18,
   "id": "69a49e39",
   "metadata": {
    "id": "69a49e39",
    "outputId": "78019ca9-1c0d-4e2f-8cc7-253a82bbac95"
   },
   "outputs": [],
   "source": [
    "# Não rode essa linha de código para não perder o resultado de exemplo"
   ]
  },
  {
   "cell_type": "markdown",
   "id": "7a0b038c",
   "metadata": {
    "id": "7a0b038c"
   },
   "source": [
    "## 6 - Qual foi o total de vendas do funcionário chamado Henrique Costa? (utilize a filtragem para descobrir)"
   ]
  },
  {
   "cell_type": "code",
   "execution_count": 44,
   "id": "1b8b04f5",
   "metadata": {
    "id": "1b8b04f5"
   },
   "outputs": [
    {
     "data": {
      "text/html": [
       "<div>\n",
       "<style scoped>\n",
       "    .dataframe tbody tr th:only-of-type {\n",
       "        vertical-align: middle;\n",
       "    }\n",
       "\n",
       "    .dataframe tbody tr th {\n",
       "        vertical-align: top;\n",
       "    }\n",
       "\n",
       "    .dataframe thead th {\n",
       "        text-align: right;\n",
       "    }\n",
       "</style>\n",
       "<table border=\"1\" class=\"dataframe\">\n",
       "  <thead>\n",
       "    <tr style=\"text-align: right;\">\n",
       "      <th></th>\n",
       "      <th>nome</th>\n",
       "      <th>unidade</th>\n",
       "      <th>escala_noturna</th>\n",
       "    </tr>\n",
       "    <tr>\n",
       "      <th>vendas</th>\n",
       "      <th></th>\n",
       "      <th></th>\n",
       "      <th></th>\n",
       "    </tr>\n",
       "  </thead>\n",
       "  <tbody>\n",
       "    <tr>\n",
       "      <th>26789.4</th>\n",
       "      <td>Henrique Costa</td>\n",
       "      <td>2</td>\n",
       "      <td>1</td>\n",
       "    </tr>\n",
       "  </tbody>\n",
       "</table>\n",
       "</div>"
      ],
      "text/plain": [
       "                   nome  unidade  escala_noturna\n",
       "vendas                                          \n",
       "26789.4  Henrique Costa        2               1"
      ]
     },
     "execution_count": 44,
     "metadata": {},
     "output_type": "execute_result"
    }
   ],
   "source": [
    "df_novo[df_novo[\"nome\"] == \"Henrique Costa\"].groupby(\"vendas\").sum()"
   ]
  },
  {
   "cell_type": "code",
   "execution_count": 19,
   "id": "c77a4e50",
   "metadata": {
    "id": "c77a4e50",
    "outputId": "46121e00-00cd-434b-ad4a-fc969e0585c2"
   },
   "outputs": [],
   "source": [
    "# Não rode essa linha de código para não perder o resultado de exemplo"
   ]
  },
  {
   "cell_type": "markdown",
   "id": "4df4a23a",
   "metadata": {
    "id": "4df4a23a"
   },
   "source": [
    "## 7 - Quais funcionários venderam menos do que R$20000 ?"
   ]
  },
  {
   "cell_type": "code",
   "execution_count": 46,
   "id": "e26e71bb",
   "metadata": {
    "id": "e26e71bb"
   },
   "outputs": [
    {
     "data": {
      "text/html": [
       "<div>\n",
       "<style scoped>\n",
       "    .dataframe tbody tr th:only-of-type {\n",
       "        vertical-align: middle;\n",
       "    }\n",
       "\n",
       "    .dataframe tbody tr th {\n",
       "        vertical-align: top;\n",
       "    }\n",
       "\n",
       "    .dataframe thead th {\n",
       "        text-align: right;\n",
       "    }\n",
       "</style>\n",
       "<table border=\"1\" class=\"dataframe\">\n",
       "  <thead>\n",
       "    <tr style=\"text-align: right;\">\n",
       "      <th></th>\n",
       "      <th>nome</th>\n",
       "      <th>unidade</th>\n",
       "      <th>escala_noturna</th>\n",
       "      <th>vendas</th>\n",
       "    </tr>\n",
       "  </thead>\n",
       "  <tbody>\n",
       "    <tr>\n",
       "      <th>0</th>\n",
       "      <td>Ana Souza</td>\n",
       "      <td>2</td>\n",
       "      <td>False</td>\n",
       "      <td>18754.32</td>\n",
       "    </tr>\n",
       "    <tr>\n",
       "      <th>2</th>\n",
       "      <td>Carla Ferreira</td>\n",
       "      <td>3</td>\n",
       "      <td>False</td>\n",
       "      <td>19876.45</td>\n",
       "    </tr>\n",
       "    <tr>\n",
       "      <th>4</th>\n",
       "      <td>Eduarda Nascimento</td>\n",
       "      <td>1</td>\n",
       "      <td>False</td>\n",
       "      <td>15789.66</td>\n",
       "    </tr>\n",
       "    <tr>\n",
       "      <th>8</th>\n",
       "      <td>Isabela Araujo</td>\n",
       "      <td>3</td>\n",
       "      <td>False</td>\n",
       "      <td>19456.78</td>\n",
       "    </tr>\n",
       "    <tr>\n",
       "      <th>10</th>\n",
       "      <td>Karina Oliveira</td>\n",
       "      <td>2</td>\n",
       "      <td>False</td>\n",
       "      <td>17654.12</td>\n",
       "    </tr>\n",
       "    <tr>\n",
       "      <th>14</th>\n",
       "      <td>Olívia Barbosa</td>\n",
       "      <td>2</td>\n",
       "      <td>False</td>\n",
       "      <td>18321.44</td>\n",
       "    </tr>\n",
       "  </tbody>\n",
       "</table>\n",
       "</div>"
      ],
      "text/plain": [
       "                  nome  unidade  escala_noturna    vendas\n",
       "0            Ana Souza        2           False  18754.32\n",
       "2       Carla Ferreira        3           False  19876.45\n",
       "4   Eduarda Nascimento        1           False  15789.66\n",
       "8       Isabela Araujo        3           False  19456.78\n",
       "10     Karina Oliveira        2           False  17654.12\n",
       "14      Olívia Barbosa        2           False  18321.44"
      ]
     },
     "execution_count": 46,
     "metadata": {},
     "output_type": "execute_result"
    }
   ],
   "source": [
    "df_novo[df_novo[\"vendas\"] < 20000]"
   ]
  },
  {
   "cell_type": "code",
   "execution_count": 20,
   "id": "5b0e575d",
   "metadata": {
    "id": "5b0e575d",
    "outputId": "f94c3655-e334-43d1-c67e-600c1d55d7b0"
   },
   "outputs": [],
   "source": [
    "# Não rode essa linha de código para não perder o resultado de exemplo"
   ]
  },
  {
   "cell_type": "markdown",
   "id": "6902e72f",
   "metadata": {
    "id": "6902e72f"
   },
   "source": [
    "## 8 - (**BONUS**) O total de vendas é maior durante o dia ou noite? (Não se preocupe com o groupby por enquanto, apenas some as vendas para cada periodo)"
   ]
  },
  {
   "cell_type": "code",
   "execution_count": null,
   "id": "3cd3f18e",
   "metadata": {
    "id": "3cd3f18e"
   },
   "outputs": [
    {
     "name": "stdout",
     "output_type": "stream",
     "text": [
      "O turno noturno teve mais vendas.\n",
      "Total de vendas no turno noturno: R$ 189655.03\n"
     ]
    }
   ],
   "source": [
    "noturno = df_novo[df_novo[\"escala_noturna\"] == True][\"vendas\"].sum()\n",
    "diurno = df_novo[df_novo[\"escala_noturna\"] == False][\"vendas\"].sum()\n",
    "\n",
    "if noturno > diurno:\n",
    "    print(\"O turno noturno teve mais vendas.\")\n",
    "    print(\"Total de vendas no turno noturno: R$\", round(noturno, 2))\n",
    "\n",
    "else:\n",
    "    print(\"O turno diurno teve mais vendas.\")\n",
    "    print(\"Total de vendas no turno diurno: R$\", round(diurno, 2))"
   ]
  },
  {
   "cell_type": "code",
   "execution_count": 21,
   "id": "886a1a14",
   "metadata": {
    "id": "886a1a14",
    "outputId": "b8b505f9-bf84-4838-9e59-e914d368df34"
   },
   "outputs": [],
   "source": [
    "# Não rode essa linha de código para não perder o resultado de exemplo"
   ]
  }
 ],
 "metadata": {
  "colab": {
   "provenance": []
  },
  "kernelspec": {
   "display_name": "Python 3",
   "language": "python",
   "name": "python3"
  },
  "language_info": {
   "codemirror_mode": {
    "name": "ipython",
    "version": 3
   },
   "file_extension": ".py",
   "mimetype": "text/x-python",
   "name": "python",
   "nbconvert_exporter": "python",
   "pygments_lexer": "ipython3",
   "version": "3.13.2"
  }
 },
 "nbformat": 4,
 "nbformat_minor": 5
}
