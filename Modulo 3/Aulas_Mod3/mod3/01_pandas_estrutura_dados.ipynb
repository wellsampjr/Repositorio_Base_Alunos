{
 "cells": [
  {
   "cell_type": "markdown",
   "id": "c8bb9d79",
   "metadata": {},
   "source": [
    "# 1- Pandas e Estrutura de Dados - Series e DataFrame"
   ]
  },
  {
   "cell_type": "code",
   "execution_count": null,
   "id": "96eff4bc",
   "metadata": {},
   "outputs": [],
   "source": []
  },
  {
   "cell_type": "markdown",
   "id": "a9bf5304",
   "metadata": {},
   "source": [
    "Estrutura de dados fundamentais: Series e Dataframe. No Pandas, uma Serie é uma estrutura unidimensional , parecida com uma coluna de uma tabela: contém uma sequência de valores com um índice associado. Já um DataFrame é uma estrutura bidimensional, tabela ou matriz, formada por várias colunas (que são internamente, series alinhadas pelo mesmo índice).\n",
    "\n"
   ]
  },
  {
   "cell_type": "code",
   "execution_count": 1,
   "id": "57de351b",
   "metadata": {},
   "outputs": [],
   "source": [
    "# Primeiro fazemos a instalação das bibliotecas e depois a importação das mesmas\n",
    "import pandas as pd\n",
    "import numpy as np\n",
    "import matplotlib.pyplot as plt "
   ]
  },
  {
   "cell_type": "code",
   "execution_count": 2,
   "id": "b1695bd2",
   "metadata": {},
   "outputs": [],
   "source": [
    "# Criar uma Serie (uma única coluna)\n",
    "s = pd.Series([10,20,30,40,50], name = 'Valores')"
   ]
  },
  {
   "cell_type": "code",
   "execution_count": 3,
   "id": "c5c3fef7",
   "metadata": {},
   "outputs": [
    {
     "data": {
      "text/plain": [
       "pandas.core.series.Series"
      ]
     },
     "execution_count": 3,
     "metadata": {},
     "output_type": "execute_result"
    }
   ],
   "source": [
    "type(s)"
   ]
  },
  {
   "cell_type": "code",
   "execution_count": 4,
   "id": "09649d36",
   "metadata": {},
   "outputs": [
    {
     "name": "stdout",
     "output_type": "stream",
     "text": [
      "\n",
      "____________________Exemplo de Series______________________\n",
      "\n",
      "0    10\n",
      "1    20\n",
      "2    30\n",
      "3    40\n",
      "4    50\n",
      "Name: Valores, dtype: int64\n",
      "\n",
      "\n"
     ]
    }
   ],
   "source": [
    "print('\\n____________________Exemplo de Series______________________\\n')\n",
    "print(s)\n",
    "print('\\n')\n",
    "# apresentará os dados da lista no formato de uma serie com indices(indexados)"
   ]
  },
  {
   "cell_type": "code",
   "execution_count": 5,
   "id": "aac2be78",
   "metadata": {},
   "outputs": [],
   "source": [
    "# Criar um dicionário em Python (os valores nulos serão inclusos como None)\n",
    "# dicionário é um conjunto de chaves e valores\n",
    "dados = {\n",
    "    'Nome':['Ana','Bruna','Fabiana','Arnaldo','Eliana','Matias'],\n",
    "    'Idade':[28,34,29,17, None,78],\n",
    "    'Cidade':['Blumenau', 'São Paulo','Blumenau','São Paulo', 'Salvador', 'São Paulo'],\n",
    "    'Salario':[None,7500,6200,9300,8100,15400]\n",
    "}"
   ]
  },
  {
   "cell_type": "code",
   "execution_count": 6,
   "id": "c616ffe8",
   "metadata": {},
   "outputs": [
    {
     "data": {
      "text/plain": [
       "dict"
      ]
     },
     "execution_count": 6,
     "metadata": {},
     "output_type": "execute_result"
    }
   ],
   "source": [
    "type(dados)"
   ]
  },
  {
   "cell_type": "code",
   "execution_count": 7,
   "id": "5dd04cc4",
   "metadata": {},
   "outputs": [
    {
     "name": "stdout",
     "output_type": "stream",
     "text": [
      "{'Nome': ['Ana', 'Bruna', 'Fabiana', 'Arnaldo', 'Eliana', 'Matias'], 'Idade': [28, 34, 29, 17, None, 78], 'Cidade': ['Blumenau', 'São Paulo', 'Blumenau', 'São Paulo', 'Salvador', 'São Paulo'], 'Salario': [None, 7500, 6200, 9300, 8100, 15400]}\n"
     ]
    }
   ],
   "source": [
    "print(dados)"
   ]
  },
  {
   "cell_type": "code",
   "execution_count": 8,
   "id": "991952eb",
   "metadata": {},
   "outputs": [],
   "source": [
    "# Converter o dicionário em um DataFrame no pandas\n",
    "df_dsa= pd.DataFrame(dados)"
   ]
  },
  {
   "cell_type": "code",
   "execution_count": 9,
   "id": "c8e9f7cb",
   "metadata": {},
   "outputs": [
    {
     "data": {
      "text/plain": [
       "pandas.core.frame.DataFrame"
      ]
     },
     "execution_count": 9,
     "metadata": {},
     "output_type": "execute_result"
    }
   ],
   "source": [
    "type(df_dsa)"
   ]
  },
  {
   "cell_type": "code",
   "execution_count": 10,
   "id": "3d3a1d06",
   "metadata": {},
   "outputs": [
    {
     "name": "stdout",
     "output_type": "stream",
     "text": [
      "\n",
      "_________________Exemplo de DataFrame___________________\n",
      "\n",
      "      Nome  Idade     Cidade  Salario\n",
      "0      Ana   28.0   Blumenau      NaN\n",
      "1    Bruna   34.0  São Paulo   7500.0\n",
      "2  Fabiana   29.0   Blumenau   6200.0\n",
      "3  Arnaldo   17.0  São Paulo   9300.0\n",
      "4   Eliana    NaN   Salvador   8100.0\n",
      "5   Matias   78.0  São Paulo  15400.0\n",
      "\n",
      "\n"
     ]
    }
   ],
   "source": [
    "print('\\n_________________Exemplo de DataFrame___________________\\n')\n",
    "print(df_dsa)\n",
    "print('\\n')"
   ]
  },
  {
   "cell_type": "markdown",
   "id": "453c55c4",
   "metadata": {},
   "source": [
    "# 2-Leitura e Escrita de Dados no formato CSV"
   ]
  },
  {
   "cell_type": "markdown",
   "id": "8ac2c915",
   "metadata": {},
   "source": [
    "Pandas torna muito fácil salvar seu DataFrame em um arquivo CSV e carregá-lo de volta"
   ]
  },
  {
   "cell_type": "code",
   "execution_count": 11,
   "id": "d4c5ee16",
   "metadata": {},
   "outputs": [],
   "source": [
    "# escrever (salvando) o DataFrame em um arquivo csv\n",
    "# index = False evita que o indice do DataFrame seja salvo como uma coluna no csv\n",
    "# encoding = 'utf-8' define a codificação universal de caracteres\n",
    "\n",
    "df_dsa.to_csv('dados_funcionarios_sem_indice.csv', index = False, encoding = 'utf-8')\n"
   ]
  },
  {
   "cell_type": "code",
   "execution_count": 12,
   "id": "7361d39e",
   "metadata": {},
   "outputs": [],
   "source": [
    "# index = True (valor padrao) inclui o indice do DataFrame como uma coluna no csv\n",
    "df_dsa.to_csv('dados_funcionarios_com_indice.csv', encoding = 'utf-8')"
   ]
  },
  {
   "cell_type": "code",
   "execution_count": 69,
   "id": "3e679aaa",
   "metadata": {},
   "outputs": [
    {
     "data": {
      "text/html": [
       "<div>\n",
       "<style scoped>\n",
       "    .dataframe tbody tr th:only-of-type {\n",
       "        vertical-align: middle;\n",
       "    }\n",
       "\n",
       "    .dataframe tbody tr th {\n",
       "        vertical-align: top;\n",
       "    }\n",
       "\n",
       "    .dataframe thead th {\n",
       "        text-align: right;\n",
       "    }\n",
       "</style>\n",
       "<table border=\"1\" class=\"dataframe\">\n",
       "  <thead>\n",
       "    <tr style=\"text-align: right;\">\n",
       "      <th></th>\n",
       "      <th>Nome</th>\n",
       "      <th>Idade</th>\n",
       "      <th>Cidade</th>\n",
       "      <th>Salario</th>\n",
       "    </tr>\n",
       "  </thead>\n",
       "  <tbody>\n",
       "    <tr>\n",
       "      <th>0</th>\n",
       "      <td>Ana</td>\n",
       "      <td>28.0</td>\n",
       "      <td>Blumenau</td>\n",
       "      <td>NaN</td>\n",
       "    </tr>\n",
       "    <tr>\n",
       "      <th>1</th>\n",
       "      <td>Bruna</td>\n",
       "      <td>34.0</td>\n",
       "      <td>São Paulo</td>\n",
       "      <td>7500.0</td>\n",
       "    </tr>\n",
       "    <tr>\n",
       "      <th>2</th>\n",
       "      <td>Fabiana</td>\n",
       "      <td>29.0</td>\n",
       "      <td>Blumenau</td>\n",
       "      <td>6200.0</td>\n",
       "    </tr>\n",
       "    <tr>\n",
       "      <th>3</th>\n",
       "      <td>Arnaldo</td>\n",
       "      <td>17.0</td>\n",
       "      <td>São Paulo</td>\n",
       "      <td>9300.0</td>\n",
       "    </tr>\n",
       "    <tr>\n",
       "      <th>4</th>\n",
       "      <td>Eliana</td>\n",
       "      <td>NaN</td>\n",
       "      <td>Salvador</td>\n",
       "      <td>8100.0</td>\n",
       "    </tr>\n",
       "    <tr>\n",
       "      <th>5</th>\n",
       "      <td>Matias</td>\n",
       "      <td>78.0</td>\n",
       "      <td>São Paulo</td>\n",
       "      <td>15400.0</td>\n",
       "    </tr>\n",
       "  </tbody>\n",
       "</table>\n",
       "</div>"
      ],
      "text/plain": [
       "      Nome  Idade     Cidade  Salario\n",
       "0      Ana   28.0   Blumenau      NaN\n",
       "1    Bruna   34.0  São Paulo   7500.0\n",
       "2  Fabiana   29.0   Blumenau   6200.0\n",
       "3  Arnaldo   17.0  São Paulo   9300.0\n",
       "4   Eliana    NaN   Salvador   8100.0\n",
       "5   Matias   78.0  São Paulo  15400.0"
      ]
     },
     "execution_count": 69,
     "metadata": {},
     "output_type": "execute_result"
    }
   ],
   "source": [
    "df_dsa_1 = pd.read_csv('dados_funcionarios_sem_indice.csv')\n",
    "df_dsa_1.head(6)  # exibe as 5 primeiras linhas do DataFrame"
   ]
  },
  {
   "cell_type": "code",
   "execution_count": 14,
   "id": "bd6118a7",
   "metadata": {},
   "outputs": [
    {
     "data": {
      "text/html": [
       "<div>\n",
       "<style scoped>\n",
       "    .dataframe tbody tr th:only-of-type {\n",
       "        vertical-align: middle;\n",
       "    }\n",
       "\n",
       "    .dataframe tbody tr th {\n",
       "        vertical-align: top;\n",
       "    }\n",
       "\n",
       "    .dataframe thead th {\n",
       "        text-align: right;\n",
       "    }\n",
       "</style>\n",
       "<table border=\"1\" class=\"dataframe\">\n",
       "  <thead>\n",
       "    <tr style=\"text-align: right;\">\n",
       "      <th></th>\n",
       "      <th>Unnamed: 0</th>\n",
       "      <th>Nome</th>\n",
       "      <th>Idade</th>\n",
       "      <th>Cidade</th>\n",
       "      <th>Salario</th>\n",
       "    </tr>\n",
       "  </thead>\n",
       "  <tbody>\n",
       "    <tr>\n",
       "      <th>0</th>\n",
       "      <td>0</td>\n",
       "      <td>Ana</td>\n",
       "      <td>28.0</td>\n",
       "      <td>Blumenau</td>\n",
       "      <td>NaN</td>\n",
       "    </tr>\n",
       "    <tr>\n",
       "      <th>1</th>\n",
       "      <td>1</td>\n",
       "      <td>Bruna</td>\n",
       "      <td>34.0</td>\n",
       "      <td>São Paulo</td>\n",
       "      <td>7500.0</td>\n",
       "    </tr>\n",
       "    <tr>\n",
       "      <th>2</th>\n",
       "      <td>2</td>\n",
       "      <td>Fabiana</td>\n",
       "      <td>29.0</td>\n",
       "      <td>Blumenau</td>\n",
       "      <td>6200.0</td>\n",
       "    </tr>\n",
       "    <tr>\n",
       "      <th>3</th>\n",
       "      <td>3</td>\n",
       "      <td>Arnaldo</td>\n",
       "      <td>17.0</td>\n",
       "      <td>São Paulo</td>\n",
       "      <td>9300.0</td>\n",
       "    </tr>\n",
       "    <tr>\n",
       "      <th>4</th>\n",
       "      <td>4</td>\n",
       "      <td>Eliana</td>\n",
       "      <td>NaN</td>\n",
       "      <td>Salvador</td>\n",
       "      <td>8100.0</td>\n",
       "    </tr>\n",
       "    <tr>\n",
       "      <th>5</th>\n",
       "      <td>5</td>\n",
       "      <td>Matias</td>\n",
       "      <td>78.0</td>\n",
       "      <td>São Paulo</td>\n",
       "      <td>15400.0</td>\n",
       "    </tr>\n",
       "  </tbody>\n",
       "</table>\n",
       "</div>"
      ],
      "text/plain": [
       "   Unnamed: 0     Nome  Idade     Cidade  Salario\n",
       "0           0      Ana   28.0   Blumenau      NaN\n",
       "1           1    Bruna   34.0  São Paulo   7500.0\n",
       "2           2  Fabiana   29.0   Blumenau   6200.0\n",
       "3           3  Arnaldo   17.0  São Paulo   9300.0\n",
       "4           4   Eliana    NaN   Salvador   8100.0\n",
       "5           5   Matias   78.0  São Paulo  15400.0"
      ]
     },
     "execution_count": 14,
     "metadata": {},
     "output_type": "execute_result"
    }
   ],
   "source": [
    "df_dsa_2 = pd.read_csv('dados_funcionarios_com_indice.csv')\n",
    "df_dsa_2.head(6)"
   ]
  },
  {
   "cell_type": "markdown",
   "id": "5bec7c72",
   "metadata": {},
   "source": []
  },
  {
   "cell_type": "code",
   "execution_count": 15,
   "id": "eb471fee",
   "metadata": {},
   "outputs": [
    {
     "data": {
      "text/html": [
       "<div>\n",
       "<style scoped>\n",
       "    .dataframe tbody tr th:only-of-type {\n",
       "        vertical-align: middle;\n",
       "    }\n",
       "\n",
       "    .dataframe tbody tr th {\n",
       "        vertical-align: top;\n",
       "    }\n",
       "\n",
       "    .dataframe thead th {\n",
       "        text-align: right;\n",
       "    }\n",
       "</style>\n",
       "<table border=\"1\" class=\"dataframe\">\n",
       "  <thead>\n",
       "    <tr style=\"text-align: right;\">\n",
       "      <th></th>\n",
       "      <th>Nome</th>\n",
       "      <th>Idade</th>\n",
       "      <th>Cidade</th>\n",
       "      <th>Salario</th>\n",
       "    </tr>\n",
       "  </thead>\n",
       "  <tbody>\n",
       "    <tr>\n",
       "      <th>0</th>\n",
       "      <td>Ana</td>\n",
       "      <td>28.0</td>\n",
       "      <td>Blumenau</td>\n",
       "      <td>NaN</td>\n",
       "    </tr>\n",
       "    <tr>\n",
       "      <th>1</th>\n",
       "      <td>Bruna</td>\n",
       "      <td>34.0</td>\n",
       "      <td>São Paulo</td>\n",
       "      <td>7500.0</td>\n",
       "    </tr>\n",
       "    <tr>\n",
       "      <th>2</th>\n",
       "      <td>Fabiana</td>\n",
       "      <td>29.0</td>\n",
       "      <td>Blumenau</td>\n",
       "      <td>6200.0</td>\n",
       "    </tr>\n",
       "    <tr>\n",
       "      <th>3</th>\n",
       "      <td>Arnaldo</td>\n",
       "      <td>17.0</td>\n",
       "      <td>São Paulo</td>\n",
       "      <td>9300.0</td>\n",
       "    </tr>\n",
       "    <tr>\n",
       "      <th>4</th>\n",
       "      <td>Eliana</td>\n",
       "      <td>NaN</td>\n",
       "      <td>Salvador</td>\n",
       "      <td>8100.0</td>\n",
       "    </tr>\n",
       "    <tr>\n",
       "      <th>5</th>\n",
       "      <td>Matias</td>\n",
       "      <td>78.0</td>\n",
       "      <td>São Paulo</td>\n",
       "      <td>15400.0</td>\n",
       "    </tr>\n",
       "  </tbody>\n",
       "</table>\n",
       "</div>"
      ],
      "text/plain": [
       "      Nome  Idade     Cidade  Salario\n",
       "0      Ana   28.0   Blumenau      NaN\n",
       "1    Bruna   34.0  São Paulo   7500.0\n",
       "2  Fabiana   29.0   Blumenau   6200.0\n",
       "3  Arnaldo   17.0  São Paulo   9300.0\n",
       "4   Eliana    NaN   Salvador   8100.0\n",
       "5   Matias   78.0  São Paulo  15400.0"
      ]
     },
     "execution_count": 15,
     "metadata": {},
     "output_type": "execute_result"
    }
   ],
   "source": [
    "# Deletar a coluna indice 0\n",
    "df_dsa_2 = df_dsa_2.drop(df_dsa_2.columns[0], axis = 1)\n",
    "df_dsa_2.head(6)"
   ]
  },
  {
   "cell_type": "markdown",
   "id": "34573dd4",
   "metadata": {},
   "source": [
    "# 3.Selecao e indexaçao com Pandas"
   ]
  },
  {
   "cell_type": "markdown",
   "id": "8d782fe7",
   "metadata": {},
   "source": [
    "Existem varias maneiras de selecionar dados de um DataFrame.As mais comuns sao loc(baseada em rótulo) e iloc(baseada em posiçao/indice numericos)"
   ]
  },
  {
   "cell_type": "code",
   "execution_count": 16,
   "id": "2df20895",
   "metadata": {},
   "outputs": [
    {
     "data": {
      "text/html": [
       "<div>\n",
       "<style scoped>\n",
       "    .dataframe tbody tr th:only-of-type {\n",
       "        vertical-align: middle;\n",
       "    }\n",
       "\n",
       "    .dataframe tbody tr th {\n",
       "        vertical-align: top;\n",
       "    }\n",
       "\n",
       "    .dataframe thead th {\n",
       "        text-align: right;\n",
       "    }\n",
       "</style>\n",
       "<table border=\"1\" class=\"dataframe\">\n",
       "  <thead>\n",
       "    <tr style=\"text-align: right;\">\n",
       "      <th></th>\n",
       "      <th>Nome</th>\n",
       "      <th>Idade</th>\n",
       "      <th>Cidade</th>\n",
       "      <th>Salario</th>\n",
       "    </tr>\n",
       "  </thead>\n",
       "  <tbody>\n",
       "    <tr>\n",
       "      <th>0</th>\n",
       "      <td>Ana</td>\n",
       "      <td>28.0</td>\n",
       "      <td>Blumenau</td>\n",
       "      <td>NaN</td>\n",
       "    </tr>\n",
       "    <tr>\n",
       "      <th>1</th>\n",
       "      <td>Bruna</td>\n",
       "      <td>34.0</td>\n",
       "      <td>São Paulo</td>\n",
       "      <td>7500.0</td>\n",
       "    </tr>\n",
       "    <tr>\n",
       "      <th>2</th>\n",
       "      <td>Fabiana</td>\n",
       "      <td>29.0</td>\n",
       "      <td>Blumenau</td>\n",
       "      <td>6200.0</td>\n",
       "    </tr>\n",
       "    <tr>\n",
       "      <th>3</th>\n",
       "      <td>Arnaldo</td>\n",
       "      <td>17.0</td>\n",
       "      <td>São Paulo</td>\n",
       "      <td>9300.0</td>\n",
       "    </tr>\n",
       "    <tr>\n",
       "      <th>4</th>\n",
       "      <td>Eliana</td>\n",
       "      <td>NaN</td>\n",
       "      <td>Salvador</td>\n",
       "      <td>8100.0</td>\n",
       "    </tr>\n",
       "    <tr>\n",
       "      <th>5</th>\n",
       "      <td>Matias</td>\n",
       "      <td>78.0</td>\n",
       "      <td>São Paulo</td>\n",
       "      <td>15400.0</td>\n",
       "    </tr>\n",
       "  </tbody>\n",
       "</table>\n",
       "</div>"
      ],
      "text/plain": [
       "      Nome  Idade     Cidade  Salario\n",
       "0      Ana   28.0   Blumenau      NaN\n",
       "1    Bruna   34.0  São Paulo   7500.0\n",
       "2  Fabiana   29.0   Blumenau   6200.0\n",
       "3  Arnaldo   17.0  São Paulo   9300.0\n",
       "4   Eliana    NaN   Salvador   8100.0\n",
       "5   Matias   78.0  São Paulo  15400.0"
      ]
     },
     "execution_count": 16,
     "metadata": {},
     "output_type": "execute_result"
    }
   ],
   "source": [
    "#colcocar os dados no pandas para manipular os dados (limpesa, etc)\n",
    "#visualixar as primeiras linhas\n",
    "df_dsa.head(6)"
   ]
  },
  {
   "cell_type": "code",
   "execution_count": 17,
   "id": "23f76ec8",
   "metadata": {},
   "outputs": [
    {
     "name": "stdout",
     "output_type": "stream",
     "text": [
      "\n",
      "_________________Selecionar a coluna Nome___________________\n",
      "\n",
      "0        Ana\n",
      "1      Bruna\n",
      "2    Fabiana\n",
      "3    Arnaldo\n",
      "4     Eliana\n",
      "5     Matias\n",
      "Name: Nome, dtype: object\n",
      "\n",
      "\n"
     ]
    }
   ],
   "source": [
    "#seleconar uma unica coluna (retorna uma Serie)\n",
    "nomes = df_dsa['Nome']\n",
    "print('\\n_________________Selecionar a coluna Nome___________________\\n')\n",
    "print(nomes)\n",
    "print('\\n')"
   ]
  },
  {
   "cell_type": "code",
   "execution_count": 18,
   "id": "7eb2475e",
   "metadata": {},
   "outputs": [
    {
     "data": {
      "text/plain": [
       "pandas.core.series.Series"
      ]
     },
     "execution_count": 18,
     "metadata": {},
     "output_type": "execute_result"
    }
   ],
   "source": [
    "type(nomes)"
   ]
  },
  {
   "cell_type": "code",
   "execution_count": 19,
   "id": "435077a7",
   "metadata": {},
   "outputs": [
    {
     "name": "stdout",
     "output_type": "stream",
     "text": [
      "\n",
      "_________________Selecionar as colunas Nome e Idade___________________\n",
      "\n",
      "      Nome  Idade\n",
      "0      Ana   28.0\n",
      "1    Bruna   34.0\n",
      "2  Fabiana   29.0\n",
      "3  Arnaldo   17.0\n",
      "4   Eliana    NaN\n",
      "5   Matias   78.0\n",
      "\n",
      "\n"
     ]
    }
   ],
   "source": [
    "# Selecionar mulriplas colunas (retorna um DataFrame)\n",
    "info_pessoal = df_dsa[['Nome','Idade']]\n",
    "print('\\n_________________Selecionar as colunas Nome e Idade___________________\\n')\n",
    "print(info_pessoal) \n",
    "print('\\n')"
   ]
  },
  {
   "cell_type": "code",
   "execution_count": 20,
   "id": "dcce50cb",
   "metadata": {},
   "outputs": [
    {
     "data": {
      "text/plain": [
       "pandas.core.frame.DataFrame"
      ]
     },
     "execution_count": 20,
     "metadata": {},
     "output_type": "execute_result"
    }
   ],
   "source": [
    "type(info_pessoal)"
   ]
  },
  {
   "cell_type": "code",
   "execution_count": 21,
   "id": "b1f383ec",
   "metadata": {},
   "outputs": [
    {
     "name": "stdout",
     "output_type": "stream",
     "text": [
      "\n",
      "_________________Selecionar com .loc [1, \"Nome\"]___________________\n",
      " Bruna \n",
      "\n"
     ]
    }
   ],
   "source": [
    "nome = df_dsa.loc[1,'Nome']\n",
    "print('\\n_________________Selecionar com .loc [1, \"Nome\"]___________________\\n',(nome),'\\n')"
   ]
  },
  {
   "cell_type": "code",
   "execution_count": 22,
   "id": "f5c6af90",
   "metadata": {},
   "outputs": [
    {
     "name": "stdout",
     "output_type": "stream",
     "text": [
      "\n",
      "_________________Selecionar com .iloc [2, 3]___________________\n",
      " Salário R$ 6200.0 \n",
      "\n"
     ]
    }
   ],
   "source": [
    "# Usando .loc para seleciona pela posicao da linha (linha 2) e da coluna (coluna 3)\n",
    "salario_fabiana = df_dsa.iloc[2, 3]\n",
    "print('\\n_________________Selecionar com .iloc [2, 3]___________________\\n','Salário R$',(salario_fabiana),'\\n')"
   ]
  },
  {
   "cell_type": "code",
   "execution_count": 23,
   "id": "b1c0bfb3",
   "metadata": {},
   "outputs": [
    {
     "name": "stdout",
     "output_type": "stream",
     "text": [
      "\n",
      "_________________Selecionar as 3 primeiras linhas com .loc___________________\n",
      "\n",
      "      Nome  Idade     Cidade  Salario\n",
      "0      Ana   28.0   Blumenau      NaN\n",
      "1    Bruna   34.0  São Paulo   7500.0\n",
      "2  Fabiana   29.0   Blumenau   6200.0\n"
     ]
    }
   ],
   "source": [
    "# Selecionar um intervalo de linhas \n",
    "primeiras_tres_linhas = df_dsa.loc[0:2] # a funçao loc inclui o indice final\n",
    "print('\\n_________________Selecionar as 3 primeiras linhas com .loc___________________\\n')  \n",
    "print(primeiras_tres_linhas)"
   ]
  },
  {
   "cell_type": "markdown",
   "id": "b8eee9fb",
   "metadata": {},
   "source": [
    "# 4. Filtragem de Dados com Pandas "
   ]
  },
  {
   "cell_type": "markdown",
   "id": "0cec00d0",
   "metadata": {},
   "source": [
    "Voce pode filtrar linhas com base em condicoes logicas, de forma muito intuitiva, bem como usar colunas como indices "
   ]
  },
  {
   "cell_type": "code",
   "execution_count": 24,
   "id": "6731d4a0",
   "metadata": {},
   "outputs": [
    {
     "data": {
      "text/html": [
       "<div>\n",
       "<style scoped>\n",
       "    .dataframe tbody tr th:only-of-type {\n",
       "        vertical-align: middle;\n",
       "    }\n",
       "\n",
       "    .dataframe tbody tr th {\n",
       "        vertical-align: top;\n",
       "    }\n",
       "\n",
       "    .dataframe thead th {\n",
       "        text-align: right;\n",
       "    }\n",
       "</style>\n",
       "<table border=\"1\" class=\"dataframe\">\n",
       "  <thead>\n",
       "    <tr style=\"text-align: right;\">\n",
       "      <th></th>\n",
       "      <th>Idade</th>\n",
       "      <th>Cidade</th>\n",
       "      <th>Salario</th>\n",
       "    </tr>\n",
       "    <tr>\n",
       "      <th>Nome</th>\n",
       "      <th></th>\n",
       "      <th></th>\n",
       "      <th></th>\n",
       "    </tr>\n",
       "  </thead>\n",
       "  <tbody>\n",
       "    <tr>\n",
       "      <th>Ana</th>\n",
       "      <td>28.0</td>\n",
       "      <td>Blumenau</td>\n",
       "      <td>NaN</td>\n",
       "    </tr>\n",
       "    <tr>\n",
       "      <th>Bruna</th>\n",
       "      <td>34.0</td>\n",
       "      <td>São Paulo</td>\n",
       "      <td>7500.0</td>\n",
       "    </tr>\n",
       "    <tr>\n",
       "      <th>Fabiana</th>\n",
       "      <td>29.0</td>\n",
       "      <td>Blumenau</td>\n",
       "      <td>6200.0</td>\n",
       "    </tr>\n",
       "    <tr>\n",
       "      <th>Arnaldo</th>\n",
       "      <td>17.0</td>\n",
       "      <td>São Paulo</td>\n",
       "      <td>9300.0</td>\n",
       "    </tr>\n",
       "    <tr>\n",
       "      <th>Eliana</th>\n",
       "      <td>NaN</td>\n",
       "      <td>Salvador</td>\n",
       "      <td>8100.0</td>\n",
       "    </tr>\n",
       "    <tr>\n",
       "      <th>Matias</th>\n",
       "      <td>78.0</td>\n",
       "      <td>São Paulo</td>\n",
       "      <td>15400.0</td>\n",
       "    </tr>\n",
       "  </tbody>\n",
       "</table>\n",
       "</div>"
      ],
      "text/plain": [
       "         Idade     Cidade  Salario\n",
       "Nome                              \n",
       "Ana       28.0   Blumenau      NaN\n",
       "Bruna     34.0  São Paulo   7500.0\n",
       "Fabiana   29.0   Blumenau   6200.0\n",
       "Arnaldo   17.0  São Paulo   9300.0\n",
       "Eliana     NaN   Salvador   8100.0\n",
       "Matias    78.0  São Paulo  15400.0"
      ]
     },
     "execution_count": 24,
     "metadata": {},
     "output_type": "execute_result"
    }
   ],
   "source": [
    "# Converter a coluna zero em indice\n",
    "df_dsa = df_dsa.set_index(df_dsa.columns[0])\n",
    "df_dsa.head(6)"
   ]
  },
  {
   "cell_type": "code",
   "execution_count": 25,
   "id": "1db24133",
   "metadata": {},
   "outputs": [
    {
     "name": "stdout",
     "output_type": "stream",
     "text": [
      "\n",
      "_________________Funcionários de São Paulo com salário maior que 6000___________________\n",
      "\n",
      "         Idade     Cidade  Salario\n",
      "Nome                              \n",
      "Bruna     34.0  São Paulo   7500.0\n",
      "Arnaldo   17.0  São Paulo   9300.0\n",
      "Matias    78.0  São Paulo  15400.0\n",
      "\n",
      "\n"
     ]
    }
   ],
   "source": [
    "# Filtragem funcionarios com salario maior que 6000\n",
    "sp_salario_alto = df_dsa[(df_dsa['Cidade'] == \"São Paulo\") & (df_dsa['Salario'] > 6000)]\n",
    "print('\\n_________________Funcionários de São Paulo com salário maior que 6000___________________\\n')\n",
    "print(sp_salario_alto)\n",
    "print('\\n')"
   ]
  },
  {
   "cell_type": "code",
   "execution_count": 26,
   "id": "99d71550",
   "metadata": {},
   "outputs": [
    {
     "data": {
      "text/plain": [
       "<bound method DataFrame.any of          Idade  Cidade  Salario\n",
       "Nome                           \n",
       "Ana      False   False     True\n",
       "Bruna    False   False    False\n",
       "Fabiana  False   False    False\n",
       "Arnaldo  False   False    False\n",
       "Eliana    True   False    False\n",
       "Matias   False   False    False>"
      ]
     },
     "execution_count": 26,
     "metadata": {},
     "output_type": "execute_result"
    }
   ],
   "source": [
    "# Verificar qualis celulas tem valuor null\n",
    "df_dsa.isnull().any"
   ]
  },
  {
   "cell_type": "code",
   "execution_count": 27,
   "id": "3c52e611",
   "metadata": {},
   "outputs": [
    {
     "data": {
      "text/html": [
       "<div>\n",
       "<style scoped>\n",
       "    .dataframe tbody tr th:only-of-type {\n",
       "        vertical-align: middle;\n",
       "    }\n",
       "\n",
       "    .dataframe tbody tr th {\n",
       "        vertical-align: top;\n",
       "    }\n",
       "\n",
       "    .dataframe thead th {\n",
       "        text-align: right;\n",
       "    }\n",
       "</style>\n",
       "<table border=\"1\" class=\"dataframe\">\n",
       "  <thead>\n",
       "    <tr style=\"text-align: right;\">\n",
       "      <th></th>\n",
       "      <th>Idade</th>\n",
       "      <th>Salario</th>\n",
       "    </tr>\n",
       "    <tr>\n",
       "      <th>Nome</th>\n",
       "      <th></th>\n",
       "      <th></th>\n",
       "    </tr>\n",
       "  </thead>\n",
       "  <tbody>\n",
       "    <tr>\n",
       "      <th>Ana</th>\n",
       "      <td>28.0</td>\n",
       "      <td>NaN</td>\n",
       "    </tr>\n",
       "    <tr>\n",
       "      <th>Bruna</th>\n",
       "      <td>34.0</td>\n",
       "      <td>7500.0</td>\n",
       "    </tr>\n",
       "    <tr>\n",
       "      <th>Fabiana</th>\n",
       "      <td>29.0</td>\n",
       "      <td>6200.0</td>\n",
       "    </tr>\n",
       "    <tr>\n",
       "      <th>Arnaldo</th>\n",
       "      <td>17.0</td>\n",
       "      <td>9300.0</td>\n",
       "    </tr>\n",
       "    <tr>\n",
       "      <th>Eliana</th>\n",
       "      <td>NaN</td>\n",
       "      <td>8100.0</td>\n",
       "    </tr>\n",
       "    <tr>\n",
       "      <th>Matias</th>\n",
       "      <td>78.0</td>\n",
       "      <td>15400.0</td>\n",
       "    </tr>\n",
       "  </tbody>\n",
       "</table>\n",
       "</div>"
      ],
      "text/plain": [
       "         Idade  Salario\n",
       "Nome                   \n",
       "Ana       28.0      NaN\n",
       "Bruna     34.0   7500.0\n",
       "Fabiana   29.0   6200.0\n",
       "Arnaldo   17.0   9300.0\n",
       "Eliana     NaN   8100.0\n",
       "Matias    78.0  15400.0"
      ]
     },
     "execution_count": 27,
     "metadata": {},
     "output_type": "execute_result"
    }
   ],
   "source": [
    "# Retorna apenas as colunas que possuem um vlalor null\n",
    "df_dsa_colunas_nulos = df_dsa.loc[:, df_dsa.isnull().any()]\n",
    "df_dsa_colunas_nulos.head(6)\n"
   ]
  },
  {
   "cell_type": "code",
   "execution_count": 28,
   "id": "472ccadd",
   "metadata": {},
   "outputs": [
    {
     "data": {
      "text/html": [
       "<div>\n",
       "<style scoped>\n",
       "    .dataframe tbody tr th:only-of-type {\n",
       "        vertical-align: middle;\n",
       "    }\n",
       "\n",
       "    .dataframe tbody tr th {\n",
       "        vertical-align: top;\n",
       "    }\n",
       "\n",
       "    .dataframe thead th {\n",
       "        text-align: right;\n",
       "    }\n",
       "</style>\n",
       "<table border=\"1\" class=\"dataframe\">\n",
       "  <thead>\n",
       "    <tr style=\"text-align: right;\">\n",
       "      <th></th>\n",
       "      <th>Idade</th>\n",
       "      <th>Cidade</th>\n",
       "      <th>Salario</th>\n",
       "    </tr>\n",
       "    <tr>\n",
       "      <th>Nome</th>\n",
       "      <th></th>\n",
       "      <th></th>\n",
       "      <th></th>\n",
       "    </tr>\n",
       "  </thead>\n",
       "  <tbody>\n",
       "    <tr>\n",
       "      <th>Ana</th>\n",
       "      <td>28.0</td>\n",
       "      <td>Blumenau</td>\n",
       "      <td>NaN</td>\n",
       "    </tr>\n",
       "    <tr>\n",
       "      <th>Eliana</th>\n",
       "      <td>NaN</td>\n",
       "      <td>Salvador</td>\n",
       "      <td>8100.0</td>\n",
       "    </tr>\n",
       "  </tbody>\n",
       "</table>\n",
       "</div>"
      ],
      "text/plain": [
       "        Idade    Cidade  Salario\n",
       "Nome                            \n",
       "Ana      28.0  Blumenau      NaN\n",
       "Eliana    NaN  Salvador   8100.0"
      ]
     },
     "execution_count": 28,
     "metadata": {},
     "output_type": "execute_result"
    }
   ],
   "source": [
    "# Retorna apenas as linhas que possuem um valor null\n",
    "\n",
    "df_dsa_linhas_nulos = df_dsa[df_dsa.isnull().any(axis=1)]\n",
    "df_dsa_linhas_nulos.head(6)"
   ]
  },
  {
   "cell_type": "markdown",
   "id": "d932ae36",
   "metadata": {},
   "source": [
    "# 5. Inspecao de DataFrame do Pandas"
   ]
  },
  {
   "cell_type": "code",
   "execution_count": 29,
   "id": "49bf4422",
   "metadata": {},
   "outputs": [
    {
     "name": "stdout",
     "output_type": "stream",
     "text": [
      "<class 'pandas.core.frame.DataFrame'>\n",
      "Index: 6 entries, Ana to Matias\n",
      "Data columns (total 3 columns):\n",
      " #   Column   Non-Null Count  Dtype  \n",
      "---  ------   --------------  -----  \n",
      " 0   Idade    5 non-null      float64\n",
      " 1   Cidade   6 non-null      object \n",
      " 2   Salario  5 non-null      float64\n",
      "dtypes: float64(2), object(1)\n",
      "memory usage: 364.0+ bytes\n",
      "\n",
      "_________________Resumo conciso do DataFrame___________________\n",
      "None\n"
     ]
    }
   ],
   "source": [
    "# A funcao .info() fornece um resumo conciso do DataFrame\n",
    "\n",
    "print(f'\\n_________________Resumo conciso do DataFrame___________________\\n{df_dsa.info()}')"
   ]
  },
  {
   "cell_type": "code",
   "execution_count": 30,
   "id": "8d1da79a",
   "metadata": {},
   "outputs": [
    {
     "name": "stdout",
     "output_type": "stream",
     "text": [
      "\n",
      "_________________Estatísticas descritivas do DataFrame___________________\n",
      "           Idade       Salario\n",
      "count   5.000000      5.000000\n",
      "mean   37.200000   9300.000000\n",
      "std    23.636836   3588.175024\n",
      "min    17.000000   6200.000000\n",
      "25%    28.000000   7500.000000\n",
      "50%    29.000000   8100.000000\n",
      "75%    34.000000   9300.000000\n",
      "max    78.000000  15400.000000\n"
     ]
    }
   ],
   "source": [
    "# A funcao .describe() gera estatísticas das colunas numericas \n",
    "print(f'\\n_________________Estatísticas descritivas do DataFrame___________________\\n{df_dsa.describe()}')"
   ]
  },
  {
   "cell_type": "code",
   "execution_count": 31,
   "id": "0352688e",
   "metadata": {},
   "outputs": [
    {
     "data": {
      "text/html": [
       "<div>\n",
       "<style scoped>\n",
       "    .dataframe tbody tr th:only-of-type {\n",
       "        vertical-align: middle;\n",
       "    }\n",
       "\n",
       "    .dataframe tbody tr th {\n",
       "        vertical-align: top;\n",
       "    }\n",
       "\n",
       "    .dataframe thead th {\n",
       "        text-align: right;\n",
       "    }\n",
       "</style>\n",
       "<table border=\"1\" class=\"dataframe\">\n",
       "  <thead>\n",
       "    <tr style=\"text-align: right;\">\n",
       "      <th></th>\n",
       "      <th>Idade</th>\n",
       "      <th>Cidade</th>\n",
       "      <th>Salario</th>\n",
       "    </tr>\n",
       "  </thead>\n",
       "  <tbody>\n",
       "    <tr>\n",
       "      <th>count</th>\n",
       "      <td>5.000000</td>\n",
       "      <td>6</td>\n",
       "      <td>5.000000</td>\n",
       "    </tr>\n",
       "    <tr>\n",
       "      <th>unique</th>\n",
       "      <td>NaN</td>\n",
       "      <td>3</td>\n",
       "      <td>NaN</td>\n",
       "    </tr>\n",
       "    <tr>\n",
       "      <th>top</th>\n",
       "      <td>NaN</td>\n",
       "      <td>São Paulo</td>\n",
       "      <td>NaN</td>\n",
       "    </tr>\n",
       "    <tr>\n",
       "      <th>freq</th>\n",
       "      <td>NaN</td>\n",
       "      <td>3</td>\n",
       "      <td>NaN</td>\n",
       "    </tr>\n",
       "    <tr>\n",
       "      <th>mean</th>\n",
       "      <td>37.200000</td>\n",
       "      <td>NaN</td>\n",
       "      <td>9300.000000</td>\n",
       "    </tr>\n",
       "    <tr>\n",
       "      <th>std</th>\n",
       "      <td>23.636836</td>\n",
       "      <td>NaN</td>\n",
       "      <td>3588.175024</td>\n",
       "    </tr>\n",
       "    <tr>\n",
       "      <th>min</th>\n",
       "      <td>17.000000</td>\n",
       "      <td>NaN</td>\n",
       "      <td>6200.000000</td>\n",
       "    </tr>\n",
       "    <tr>\n",
       "      <th>25%</th>\n",
       "      <td>28.000000</td>\n",
       "      <td>NaN</td>\n",
       "      <td>7500.000000</td>\n",
       "    </tr>\n",
       "    <tr>\n",
       "      <th>50%</th>\n",
       "      <td>29.000000</td>\n",
       "      <td>NaN</td>\n",
       "      <td>8100.000000</td>\n",
       "    </tr>\n",
       "    <tr>\n",
       "      <th>75%</th>\n",
       "      <td>34.000000</td>\n",
       "      <td>NaN</td>\n",
       "      <td>9300.000000</td>\n",
       "    </tr>\n",
       "    <tr>\n",
       "      <th>max</th>\n",
       "      <td>78.000000</td>\n",
       "      <td>NaN</td>\n",
       "      <td>15400.000000</td>\n",
       "    </tr>\n",
       "  </tbody>\n",
       "</table>\n",
       "</div>"
      ],
      "text/plain": [
       "            Idade     Cidade       Salario\n",
       "count    5.000000          6      5.000000\n",
       "unique        NaN          3           NaN\n",
       "top           NaN  São Paulo           NaN\n",
       "freq          NaN          3           NaN\n",
       "mean    37.200000        NaN   9300.000000\n",
       "std     23.636836        NaN   3588.175024\n",
       "min     17.000000        NaN   6200.000000\n",
       "25%     28.000000        NaN   7500.000000\n",
       "50%     29.000000        NaN   8100.000000\n",
       "75%     34.000000        NaN   9300.000000\n",
       "max     78.000000        NaN  15400.000000"
      ]
     },
     "execution_count": 31,
     "metadata": {},
     "output_type": "execute_result"
    }
   ],
   "source": [
    "df_dsa.describe(include='all') # para incluir todas as colunas, inclusive as categóricas"
   ]
  },
  {
   "cell_type": "code",
   "execution_count": 32,
   "id": "5861dfed",
   "metadata": {},
   "outputs": [
    {
     "data": {
      "text/html": [
       "<div>\n",
       "<style scoped>\n",
       "    .dataframe tbody tr th:only-of-type {\n",
       "        vertical-align: middle;\n",
       "    }\n",
       "\n",
       "    .dataframe tbody tr th {\n",
       "        vertical-align: top;\n",
       "    }\n",
       "\n",
       "    .dataframe thead th {\n",
       "        text-align: right;\n",
       "    }\n",
       "</style>\n",
       "<table border=\"1\" class=\"dataframe\">\n",
       "  <thead>\n",
       "    <tr style=\"text-align: right;\">\n",
       "      <th></th>\n",
       "      <th>Cidade</th>\n",
       "    </tr>\n",
       "  </thead>\n",
       "  <tbody>\n",
       "    <tr>\n",
       "      <th>count</th>\n",
       "      <td>6</td>\n",
       "    </tr>\n",
       "    <tr>\n",
       "      <th>unique</th>\n",
       "      <td>3</td>\n",
       "    </tr>\n",
       "    <tr>\n",
       "      <th>top</th>\n",
       "      <td>São Paulo</td>\n",
       "    </tr>\n",
       "    <tr>\n",
       "      <th>freq</th>\n",
       "      <td>3</td>\n",
       "    </tr>\n",
       "  </tbody>\n",
       "</table>\n",
       "</div>"
      ],
      "text/plain": [
       "           Cidade\n",
       "count           6\n",
       "unique          3\n",
       "top     São Paulo\n",
       "freq            3"
      ]
     },
     "execution_count": 32,
     "metadata": {},
     "output_type": "execute_result"
    }
   ],
   "source": [
    "df_dsa.describe(include=['object']) # para incluir apenas as colunas do tipo objeto "
   ]
  },
  {
   "cell_type": "code",
   "execution_count": 33,
   "id": "08eecb6a",
   "metadata": {},
   "outputs": [
    {
     "data": {
      "text/html": [
       "<div>\n",
       "<style scoped>\n",
       "    .dataframe tbody tr th:only-of-type {\n",
       "        vertical-align: middle;\n",
       "    }\n",
       "\n",
       "    .dataframe tbody tr th {\n",
       "        vertical-align: top;\n",
       "    }\n",
       "\n",
       "    .dataframe thead th {\n",
       "        text-align: right;\n",
       "    }\n",
       "</style>\n",
       "<table border=\"1\" class=\"dataframe\">\n",
       "  <thead>\n",
       "    <tr style=\"text-align: right;\">\n",
       "      <th></th>\n",
       "      <th>Idade</th>\n",
       "      <th>Salario</th>\n",
       "    </tr>\n",
       "  </thead>\n",
       "  <tbody>\n",
       "    <tr>\n",
       "      <th>count</th>\n",
       "      <td>5.000000</td>\n",
       "      <td>5.000000</td>\n",
       "    </tr>\n",
       "    <tr>\n",
       "      <th>mean</th>\n",
       "      <td>37.200000</td>\n",
       "      <td>9300.000000</td>\n",
       "    </tr>\n",
       "    <tr>\n",
       "      <th>std</th>\n",
       "      <td>23.636836</td>\n",
       "      <td>3588.175024</td>\n",
       "    </tr>\n",
       "    <tr>\n",
       "      <th>min</th>\n",
       "      <td>17.000000</td>\n",
       "      <td>6200.000000</td>\n",
       "    </tr>\n",
       "    <tr>\n",
       "      <th>25%</th>\n",
       "      <td>28.000000</td>\n",
       "      <td>7500.000000</td>\n",
       "    </tr>\n",
       "    <tr>\n",
       "      <th>50%</th>\n",
       "      <td>29.000000</td>\n",
       "      <td>8100.000000</td>\n",
       "    </tr>\n",
       "    <tr>\n",
       "      <th>75%</th>\n",
       "      <td>34.000000</td>\n",
       "      <td>9300.000000</td>\n",
       "    </tr>\n",
       "    <tr>\n",
       "      <th>max</th>\n",
       "      <td>78.000000</td>\n",
       "      <td>15400.000000</td>\n",
       "    </tr>\n",
       "  </tbody>\n",
       "</table>\n",
       "</div>"
      ],
      "text/plain": [
       "           Idade       Salario\n",
       "count   5.000000      5.000000\n",
       "mean   37.200000   9300.000000\n",
       "std    23.636836   3588.175024\n",
       "min    17.000000   6200.000000\n",
       "25%    28.000000   7500.000000\n",
       "50%    29.000000   8100.000000\n",
       "75%    34.000000   9300.000000\n",
       "max    78.000000  15400.000000"
      ]
     },
     "execution_count": 33,
     "metadata": {},
     "output_type": "execute_result"
    }
   ],
   "source": [
    "df_dsa.describe(include=['number']) # para incluir apenas as colunas do tipo numérico"
   ]
  },
  {
   "cell_type": "markdown",
   "id": "c08811b2",
   "metadata": {},
   "source": [
    "# 6. Operacoes e Trasformaçoes "
   ]
  },
  {
   "cell_type": "markdown",
   "id": "c2f73b3b",
   "metadata": {},
   "source": [
    "Voce pode facilmente criar novas colunas a partir de outras ou aplicar funçoes para modificar os dados. Fazemos isso com frequencia em tarefas de engenharia de atributos em projetos de Ciencia de Dados "
   ]
  },
  {
   "cell_type": "code",
   "execution_count": 34,
   "id": "4d9a9aec",
   "metadata": {},
   "outputs": [
    {
     "data": {
      "text/html": [
       "<div>\n",
       "<style scoped>\n",
       "    .dataframe tbody tr th:only-of-type {\n",
       "        vertical-align: middle;\n",
       "    }\n",
       "\n",
       "    .dataframe tbody tr th {\n",
       "        vertical-align: top;\n",
       "    }\n",
       "\n",
       "    .dataframe thead th {\n",
       "        text-align: right;\n",
       "    }\n",
       "</style>\n",
       "<table border=\"1\" class=\"dataframe\">\n",
       "  <thead>\n",
       "    <tr style=\"text-align: right;\">\n",
       "      <th></th>\n",
       "      <th>Idade</th>\n",
       "      <th>Cidade</th>\n",
       "      <th>Salario</th>\n",
       "    </tr>\n",
       "    <tr>\n",
       "      <th>Nome</th>\n",
       "      <th></th>\n",
       "      <th></th>\n",
       "      <th></th>\n",
       "    </tr>\n",
       "  </thead>\n",
       "  <tbody>\n",
       "    <tr>\n",
       "      <th>Ana</th>\n",
       "      <td>28.0</td>\n",
       "      <td>Blumenau</td>\n",
       "      <td>NaN</td>\n",
       "    </tr>\n",
       "    <tr>\n",
       "      <th>Bruna</th>\n",
       "      <td>34.0</td>\n",
       "      <td>São Paulo</td>\n",
       "      <td>7500.0</td>\n",
       "    </tr>\n",
       "    <tr>\n",
       "      <th>Fabiana</th>\n",
       "      <td>29.0</td>\n",
       "      <td>Blumenau</td>\n",
       "      <td>6200.0</td>\n",
       "    </tr>\n",
       "    <tr>\n",
       "      <th>Arnaldo</th>\n",
       "      <td>17.0</td>\n",
       "      <td>São Paulo</td>\n",
       "      <td>9300.0</td>\n",
       "    </tr>\n",
       "    <tr>\n",
       "      <th>Eliana</th>\n",
       "      <td>NaN</td>\n",
       "      <td>Salvador</td>\n",
       "      <td>8100.0</td>\n",
       "    </tr>\n",
       "  </tbody>\n",
       "</table>\n",
       "</div>"
      ],
      "text/plain": [
       "         Idade     Cidade  Salario\n",
       "Nome                              \n",
       "Ana       28.0   Blumenau      NaN\n",
       "Bruna     34.0  São Paulo   7500.0\n",
       "Fabiana   29.0   Blumenau   6200.0\n",
       "Arnaldo   17.0  São Paulo   9300.0\n",
       "Eliana     NaN   Salvador   8100.0"
      ]
     },
     "execution_count": 34,
     "metadata": {},
     "output_type": "execute_result"
    }
   ],
   "source": [
    "df_dsa.head()"
   ]
  },
  {
   "cell_type": "code",
   "execution_count": 35,
   "id": "c5296004",
   "metadata": {},
   "outputs": [
    {
     "name": "stdout",
     "output_type": "stream",
     "text": [
      "\n",
      "_________________DataFrame com nova coluna \"Salario Anual\"___________________\n",
      "\n",
      "         Idade     Cidade  Salario  Salario Anual\n",
      "Nome                                             \n",
      "Ana       28.0   Blumenau      NaN            NaN\n",
      "Bruna     34.0  São Paulo   7500.0        90000.0\n",
      "Fabiana   29.0   Blumenau   6200.0        74400.0\n",
      "Arnaldo   17.0  São Paulo   9300.0       111600.0\n",
      "Eliana     NaN   Salvador   8100.0        97200.0\n",
      "Matias    78.0  São Paulo  15400.0       184800.0\n",
      "\n",
      "\n"
     ]
    }
   ],
   "source": [
    "# Criar um nova coluna chamda \"Salario Anual\"\n",
    "df_dsa['Salario Anual'] = df_dsa['Salario'] * 12\n",
    "print('\\n_________________DataFrame com nova coluna \"Salario Anual\"___________________\\n')\n",
    "print(df_dsa)\n",
    "print('\\n')"
   ]
  },
  {
   "cell_type": "code",
   "execution_count": 36,
   "id": "e398ab39",
   "metadata": {},
   "outputs": [
    {
     "name": "stdout",
     "output_type": "stream",
     "text": [
      "\n",
      "_________________DataFrame com nova coluna \"Bônus\"___________________\n",
      "\n",
      "         Idade     Cidade  Salario  Salario Anual   Bônus\n",
      "Nome                                                     \n",
      "Ana       28.0   Blumenau      NaN            NaN     NaN\n",
      "Bruna     34.0  São Paulo   7500.0        90000.0   750.0\n",
      "Fabiana   29.0   Blumenau   6200.0        74400.0   310.0\n",
      "Arnaldo   17.0  São Paulo   9300.0       111600.0   930.0\n",
      "Eliana     NaN   Salvador   8100.0        97200.0   810.0\n",
      "Matias    78.0  São Paulo  15400.0       184800.0  1540.0\n",
      "\n",
      "\n"
     ]
    }
   ],
   "source": [
    "# Aplicar uma funçao para crar uma coluna chamada \"Bonus\"\n",
    "df_dsa['Bônus'] = df_dsa[\"Salario\"].apply(lambda x: x * 0.10 if x > 7000 else x * 0.05)\n",
    "print('\\n_________________DataFrame com nova coluna \"Bônus\"___________________\\n')\n",
    "print(df_dsa)\n",
    "print('\\n')"
   ]
  },
  {
   "cell_type": "markdown",
   "id": "7a25dc93",
   "metadata": {},
   "source": [
    "Criar uma coluna de faixa etaria"
   ]
  },
  {
   "cell_type": "code",
   "execution_count": 37,
   "id": "80912162",
   "metadata": {},
   "outputs": [],
   "source": [
    "# Definir as condicoes(criar uma mascara)\n",
    "condicoes= [\n",
    "    df_dsa[\"Idade\"] <18,\n",
    "    (df_dsa[\"Idade\"]>=18) & (df_dsa[\"Idade\"] <= 30),\n",
    "    (df_dsa[\"Idade\"] >30) & (df_dsa[\"Idade\"] <= 60),\n",
    "    df_dsa[\"Idade\"] > 60\n",
    "]"
   ]
  },
  {
   "cell_type": "code",
   "execution_count": 38,
   "id": "6c3b3bdd",
   "metadata": {},
   "outputs": [
    {
     "name": "stdout",
     "output_type": "stream",
     "text": [
      "[Nome\n",
      "Ana        False\n",
      "Bruna      False\n",
      "Fabiana    False\n",
      "Arnaldo     True\n",
      "Eliana     False\n",
      "Matias     False\n",
      "Name: Idade, dtype: bool, Nome\n",
      "Ana         True\n",
      "Bruna      False\n",
      "Fabiana     True\n",
      "Arnaldo    False\n",
      "Eliana     False\n",
      "Matias     False\n",
      "Name: Idade, dtype: bool, Nome\n",
      "Ana        False\n",
      "Bruna       True\n",
      "Fabiana    False\n",
      "Arnaldo    False\n",
      "Eliana     False\n",
      "Matias     False\n",
      "Name: Idade, dtype: bool, Nome\n",
      "Ana        False\n",
      "Bruna      False\n",
      "Fabiana    False\n",
      "Arnaldo    False\n",
      "Eliana     False\n",
      "Matias      True\n",
      "Name: Idade, dtype: bool]\n"
     ]
    }
   ],
   "source": [
    "print(condicoes)"
   ]
  },
  {
   "cell_type": "code",
   "execution_count": 39,
   "id": "3b6c3784",
   "metadata": {},
   "outputs": [],
   "source": [
    "# Definir os rotulos correspondentes \n",
    "\n",
    "faixas = [\"Menor de Idade\",\n",
    "          \"Jovem\",\n",
    "          \"Adulto\",\n",
    "          \"Idoso\"]"
   ]
  },
  {
   "cell_type": "code",
   "execution_count": 40,
   "id": "97d87a90",
   "metadata": {},
   "outputs": [],
   "source": [
    "#Criar uma nova coluna \n",
    "df_dsa[\"Faixa Etaria\"] = np.select(condicoes, faixas, default = \"Idade não encontrada\")"
   ]
  },
  {
   "cell_type": "code",
   "execution_count": 41,
   "id": "f1146297",
   "metadata": {},
   "outputs": [
    {
     "data": {
      "text/html": [
       "<div>\n",
       "<style scoped>\n",
       "    .dataframe tbody tr th:only-of-type {\n",
       "        vertical-align: middle;\n",
       "    }\n",
       "\n",
       "    .dataframe tbody tr th {\n",
       "        vertical-align: top;\n",
       "    }\n",
       "\n",
       "    .dataframe thead th {\n",
       "        text-align: right;\n",
       "    }\n",
       "</style>\n",
       "<table border=\"1\" class=\"dataframe\">\n",
       "  <thead>\n",
       "    <tr style=\"text-align: right;\">\n",
       "      <th></th>\n",
       "      <th>Idade</th>\n",
       "      <th>Cidade</th>\n",
       "      <th>Salario</th>\n",
       "      <th>Salario Anual</th>\n",
       "      <th>Bônus</th>\n",
       "      <th>Faixa Etaria</th>\n",
       "    </tr>\n",
       "    <tr>\n",
       "      <th>Nome</th>\n",
       "      <th></th>\n",
       "      <th></th>\n",
       "      <th></th>\n",
       "      <th></th>\n",
       "      <th></th>\n",
       "      <th></th>\n",
       "    </tr>\n",
       "  </thead>\n",
       "  <tbody>\n",
       "    <tr>\n",
       "      <th>Ana</th>\n",
       "      <td>28.0</td>\n",
       "      <td>Blumenau</td>\n",
       "      <td>NaN</td>\n",
       "      <td>NaN</td>\n",
       "      <td>NaN</td>\n",
       "      <td>Jovem</td>\n",
       "    </tr>\n",
       "    <tr>\n",
       "      <th>Bruna</th>\n",
       "      <td>34.0</td>\n",
       "      <td>São Paulo</td>\n",
       "      <td>7500.0</td>\n",
       "      <td>90000.0</td>\n",
       "      <td>750.0</td>\n",
       "      <td>Adulto</td>\n",
       "    </tr>\n",
       "    <tr>\n",
       "      <th>Fabiana</th>\n",
       "      <td>29.0</td>\n",
       "      <td>Blumenau</td>\n",
       "      <td>6200.0</td>\n",
       "      <td>74400.0</td>\n",
       "      <td>310.0</td>\n",
       "      <td>Jovem</td>\n",
       "    </tr>\n",
       "    <tr>\n",
       "      <th>Arnaldo</th>\n",
       "      <td>17.0</td>\n",
       "      <td>São Paulo</td>\n",
       "      <td>9300.0</td>\n",
       "      <td>111600.0</td>\n",
       "      <td>930.0</td>\n",
       "      <td>Menor de Idade</td>\n",
       "    </tr>\n",
       "    <tr>\n",
       "      <th>Eliana</th>\n",
       "      <td>NaN</td>\n",
       "      <td>Salvador</td>\n",
       "      <td>8100.0</td>\n",
       "      <td>97200.0</td>\n",
       "      <td>810.0</td>\n",
       "      <td>Idade não encontrada</td>\n",
       "    </tr>\n",
       "  </tbody>\n",
       "</table>\n",
       "</div>"
      ],
      "text/plain": [
       "         Idade     Cidade  Salario  Salario Anual  Bônus          Faixa Etaria\n",
       "Nome                                                                          \n",
       "Ana       28.0   Blumenau      NaN            NaN    NaN                 Jovem\n",
       "Bruna     34.0  São Paulo   7500.0        90000.0  750.0                Adulto\n",
       "Fabiana   29.0   Blumenau   6200.0        74400.0  310.0                 Jovem\n",
       "Arnaldo   17.0  São Paulo   9300.0       111600.0  930.0        Menor de Idade\n",
       "Eliana     NaN   Salvador   8100.0        97200.0  810.0  Idade não encontrada"
      ]
     },
     "execution_count": 41,
     "metadata": {},
     "output_type": "execute_result"
    }
   ],
   "source": [
    "df_dsa.head()"
   ]
  },
  {
   "cell_type": "markdown",
   "id": "707d8068",
   "metadata": {},
   "source": [
    "# 7. Agrupamento de Dados (Group by) com Pandas"
   ]
  },
  {
   "cell_type": "markdown",
   "id": "f376404f",
   "metadata": {},
   "source": [
    "O método groupby é extremamente poderoso para ánalises segmentadas.É exatamente o mesmo conceito usando na linguagem SQL"
   ]
  },
  {
   "cell_type": "code",
   "execution_count": 42,
   "id": "bf0c676e",
   "metadata": {},
   "outputs": [
    {
     "data": {
      "text/html": [
       "<div>\n",
       "<style scoped>\n",
       "    .dataframe tbody tr th:only-of-type {\n",
       "        vertical-align: middle;\n",
       "    }\n",
       "\n",
       "    .dataframe tbody tr th {\n",
       "        vertical-align: top;\n",
       "    }\n",
       "\n",
       "    .dataframe thead th {\n",
       "        text-align: right;\n",
       "    }\n",
       "</style>\n",
       "<table border=\"1\" class=\"dataframe\">\n",
       "  <thead>\n",
       "    <tr style=\"text-align: right;\">\n",
       "      <th></th>\n",
       "      <th>Nome</th>\n",
       "      <th>Idade</th>\n",
       "      <th>Cidade</th>\n",
       "      <th>Salario</th>\n",
       "      <th>Salario Anual</th>\n",
       "      <th>Bônus</th>\n",
       "      <th>Faixa Etaria</th>\n",
       "    </tr>\n",
       "  </thead>\n",
       "  <tbody>\n",
       "    <tr>\n",
       "      <th>0</th>\n",
       "      <td>Ana</td>\n",
       "      <td>28.0</td>\n",
       "      <td>Blumenau</td>\n",
       "      <td>NaN</td>\n",
       "      <td>NaN</td>\n",
       "      <td>NaN</td>\n",
       "      <td>Jovem</td>\n",
       "    </tr>\n",
       "    <tr>\n",
       "      <th>1</th>\n",
       "      <td>Bruna</td>\n",
       "      <td>34.0</td>\n",
       "      <td>São Paulo</td>\n",
       "      <td>7500.0</td>\n",
       "      <td>90000.0</td>\n",
       "      <td>750.0</td>\n",
       "      <td>Adulto</td>\n",
       "    </tr>\n",
       "    <tr>\n",
       "      <th>2</th>\n",
       "      <td>Fabiana</td>\n",
       "      <td>29.0</td>\n",
       "      <td>Blumenau</td>\n",
       "      <td>6200.0</td>\n",
       "      <td>74400.0</td>\n",
       "      <td>310.0</td>\n",
       "      <td>Jovem</td>\n",
       "    </tr>\n",
       "    <tr>\n",
       "      <th>3</th>\n",
       "      <td>Arnaldo</td>\n",
       "      <td>17.0</td>\n",
       "      <td>São Paulo</td>\n",
       "      <td>9300.0</td>\n",
       "      <td>111600.0</td>\n",
       "      <td>930.0</td>\n",
       "      <td>Menor de Idade</td>\n",
       "    </tr>\n",
       "    <tr>\n",
       "      <th>4</th>\n",
       "      <td>Eliana</td>\n",
       "      <td>NaN</td>\n",
       "      <td>Salvador</td>\n",
       "      <td>8100.0</td>\n",
       "      <td>97200.0</td>\n",
       "      <td>810.0</td>\n",
       "      <td>Idade não encontrada</td>\n",
       "    </tr>\n",
       "  </tbody>\n",
       "</table>\n",
       "</div>"
      ],
      "text/plain": [
       "      Nome  Idade     Cidade  Salario  Salario Anual  Bônus  \\\n",
       "0      Ana   28.0   Blumenau      NaN            NaN    NaN   \n",
       "1    Bruna   34.0  São Paulo   7500.0        90000.0  750.0   \n",
       "2  Fabiana   29.0   Blumenau   6200.0        74400.0  310.0   \n",
       "3  Arnaldo   17.0  São Paulo   9300.0       111600.0  930.0   \n",
       "4   Eliana    NaN   Salvador   8100.0        97200.0  810.0   \n",
       "\n",
       "           Faixa Etaria  \n",
       "0                 Jovem  \n",
       "1                Adulto  \n",
       "2                 Jovem  \n",
       "3        Menor de Idade  \n",
       "4  Idade não encontrada  "
      ]
     },
     "execution_count": 42,
     "metadata": {},
     "output_type": "execute_result"
    }
   ],
   "source": [
    "df_dsa =df_dsa.reset_index()\n",
    "df_dsa.head()"
   ]
  },
  {
   "cell_type": "code",
   "execution_count": 43,
   "id": "f952369a",
   "metadata": {},
   "outputs": [
    {
     "name": "stdout",
     "output_type": "stream",
     "text": [
      "\n",
      "_________________Média Salarial por Cidade___________________\n",
      "\n",
      "Cidade\n",
      "Blumenau      6200.00\n",
      "Salvador      8100.00\n",
      "São Paulo    10733.33\n",
      "Name: Salario, dtype: float64\n",
      "\n",
      "\n"
     ]
    }
   ],
   "source": [
    "# Agrupar os dados por 'Cidade' e calcular a média salarial por cidade\n",
    "mediaSalarioCidade = df_dsa.groupby(\"Cidade\")[\"Salario\"].mean()\n",
    "print('\\n_________________Média Salarial por Cidade___________________\\n')\n",
    "print(np.round(mediaSalarioCidade,2))\n",
    "print('\\n')"
   ]
  },
  {
   "cell_type": "code",
   "execution_count": 44,
   "id": "8f526843",
   "metadata": {},
   "outputs": [
    {
     "name": "stdout",
     "output_type": "stream",
     "text": [
      "           Media_Salarial  IdadeMaxima  Contagem\n",
      "Cidade                                          \n",
      "Blumenau      6200.000000         29.0         2\n",
      "Salvador      8100.000000          NaN         1\n",
      "São Paulo    10733.333333         78.0         3\n"
     ]
    }
   ],
   "source": [
    "# Agrupar por cidade e calcular multiplas agregacoes\n",
    "agregacaoCidade = df_dsa.groupby('Cidade').agg(Media_Salarial = ('Salario','mean'),\n",
    "                                               IdadeMaxima = ('Idade','max'),\n",
    "                                                Contagem = ('Nome','count'))\n",
    "\n",
    "print(agregacaoCidade)"
   ]
  },
  {
   "cell_type": "markdown",
   "id": "71ed55b3",
   "metadata": {},
   "source": [
    "# 8. manipulacao de Tipos de Dados com Pandas "
   ]
  },
  {
   "cell_type": "markdown",
   "id": "a9489627",
   "metadata": {},
   "source": [
    "Garantir que cada coluna tenha o tipo de dado correto é fundamental para qualquer tipo de analise "
   ]
  },
  {
   "cell_type": "code",
   "execution_count": 45,
   "id": "4f3bf0e9",
   "metadata": {},
   "outputs": [
    {
     "name": "stdout",
     "output_type": "stream",
     "text": [
      "\n",
      "_________________Tipos de dados antes da Conversao___________________\n",
      "\n",
      "Nome              object\n",
      "Idade            float64\n",
      "Cidade            object\n",
      "Salario          float64\n",
      "Salario Anual    float64\n",
      "Bônus            float64\n",
      "Faixa Etaria      object\n",
      "dtype: object\n",
      "\n",
      "\n"
     ]
    }
   ],
   "source": [
    "# Verificar os tipos de dados atuais, para conhecer quais tipos de operacoes podeos executar\n",
    "print('\\n_________________Tipos de dados antes da Conversao___________________\\n')\n",
    "print(df_dsa.dtypes)\n",
    "print('\\n')\n"
   ]
  },
  {
   "cell_type": "code",
   "execution_count": 46,
   "id": "abaf2b0b",
   "metadata": {},
   "outputs": [],
   "source": [
    "# Converter a coluna \"idade\" de float64 para int64 -ATENÇÃO\n",
    "#df_dsa[\"Idade\"] = df_dsa[\"Idade\"].astype('int64')"
   ]
  },
  {
   "cell_type": "code",
   "execution_count": 47,
   "id": "f9fff7fd",
   "metadata": {},
   "outputs": [],
   "source": [
    "# Primeiro removemos as linhas com valores ausentes \n",
    "\n",
    "df_dsa = df_dsa.dropna(subset=['Idade']) # apaga a linha\n",
    "\n",
    "df_dsa[\"Idade\"] = df_dsa[\"Idade\"].astype('int') # nesse comando altera o tipo de dado de float para int "
   ]
  },
  {
   "cell_type": "code",
   "execution_count": 48,
   "id": "29c29086",
   "metadata": {},
   "outputs": [
    {
     "name": "stdout",
     "output_type": "stream",
     "text": [
      "\n",
      "_________________Tipos de dados apos da Conversao___________________\n",
      "\n",
      "Nome              object\n",
      "Idade              int64\n",
      "Cidade            object\n",
      "Salario          float64\n",
      "Salario Anual    float64\n",
      "Bônus            float64\n",
      "Faixa Etaria      object\n",
      "dtype: object\n",
      "\n",
      "\n"
     ]
    }
   ],
   "source": [
    "print('\\n_________________Tipos de dados apos da Conversao___________________\\n')\n",
    "print(df_dsa.dtypes)\n",
    "print('\\n')\n"
   ]
  },
  {
   "cell_type": "code",
   "execution_count": 49,
   "id": "b881ad0d",
   "metadata": {},
   "outputs": [],
   "source": [
    "# Conveerter o tipo object para o tipo string\n",
    "\n",
    "df_dsa[\"Cidade\"] = df_dsa[\"Cidade\"].astype('string')\n",
    "df_dsa[\"Nome\"] = df_dsa[\"Nome\"].astype('string')\n",
    "df_dsa[\"Faixa Etaria\"] = df_dsa[\"Faixa Etaria\"].astype('string')"
   ]
  },
  {
   "cell_type": "code",
   "execution_count": 50,
   "id": "fd751011",
   "metadata": {},
   "outputs": [
    {
     "name": "stdout",
     "output_type": "stream",
     "text": [
      "\n",
      "_________________Tipos de dados apos da Conversao___________________\n",
      "\n",
      "Nome             string[python]\n",
      "Idade                     int64\n",
      "Cidade           string[python]\n",
      "Salario                 float64\n",
      "Salario Anual           float64\n",
      "Bônus                   float64\n",
      "Faixa Etaria     string[python]\n",
      "dtype: object\n",
      "\n",
      "\n"
     ]
    }
   ],
   "source": [
    "print('\\n_________________Tipos de dados apos da Conversao___________________\\n')\n",
    "print(df_dsa.dtypes)\n",
    "print('\\n')"
   ]
  },
  {
   "cell_type": "code",
   "execution_count": 51,
   "id": "1faa419b",
   "metadata": {},
   "outputs": [
    {
     "ename": "AttributeError",
     "evalue": "'DataFrame' object has no attribute 'astupe'",
     "output_type": "error",
     "traceback": [
      "\u001b[31m---------------------------------------------------------------------------\u001b[39m",
      "\u001b[31mAttributeError\u001b[39m                            Traceback (most recent call last)",
      "\u001b[32m~\\AppData\\Local\\Temp\\ipykernel_22220\\549427163.py\u001b[39m in \u001b[36m?\u001b[39m\u001b[34m()\u001b[39m\n\u001b[32m      1\u001b[39m \u001b[38;5;66;03m# Outra maneira de Fazer conversao\u001b[39;00m\n\u001b[32m      2\u001b[39m \u001b[38;5;66;03m#COnverter todas as colunas do tipo object para string\u001b[39;00m\n\u001b[32m----> \u001b[39m\u001b[32m3\u001b[39m df_dsa = df_dsa.astupe({col: \u001b[33m'string'\u001b[39m \u001b[38;5;28;01mfor\u001b[39;00m col \u001b[38;5;28;01min\u001b[39;00m df_dsa.select_dtypes([\u001b[33m'object'\u001b[39m]).columns})\n",
      "\u001b[32m~\\AppData\\Roaming\\Python\\Python313\\site-packages\\pandas\\core\\generic.py\u001b[39m in \u001b[36m?\u001b[39m\u001b[34m(self, name)\u001b[39m\n\u001b[32m   6317\u001b[39m             \u001b[38;5;28;01mand\u001b[39;00m name \u001b[38;5;28;01mnot\u001b[39;00m \u001b[38;5;28;01min\u001b[39;00m self._accessors\n\u001b[32m   6318\u001b[39m             \u001b[38;5;28;01mand\u001b[39;00m self._info_axis._can_hold_identifiers_and_holds_name(name)\n\u001b[32m   6319\u001b[39m         ):\n\u001b[32m   6320\u001b[39m             \u001b[38;5;28;01mreturn\u001b[39;00m self[name]\n\u001b[32m-> \u001b[39m\u001b[32m6321\u001b[39m         \u001b[38;5;28;01mreturn\u001b[39;00m object.__getattribute__(self, name)\n",
      "\u001b[31mAttributeError\u001b[39m: 'DataFrame' object has no attribute 'astupe'"
     ]
    }
   ],
   "source": [
    "# Outra maneira de Fazer conversao \n",
    "#COnverter todas as colunas do tipo object para string\n",
    "df_dsa = df_dsa.astupe({col: 'string' for col in df_dsa.select_dtypes(['object']).columns})"
   ]
  },
  {
   "cell_type": "markdown",
   "id": "4a9f49d0",
   "metadata": {},
   "source": [
    "Diferenca entre object e string no pandas :\n",
    "-object é um tipo generic que armazena qualquer coisa em Python \n",
    "-String é um tipo de dado nativo para texto, pensado para operacoes mais seguras e consistentes com string.\n",
    "Com strings voce ganha melhor interacao com metodos de texto(.str) e tratamento explícito de valores ausentes ( em de NaN\n",
    "misturado com objetos). Em grandes DataFrames, o tipo string pode ser um pouco mais eficiente e evita confusões quando cluas\n",
    "deveriam ser só texto. Mas não é obrigatório converter, mas usar string ajuda a ter consistência, evita misturar tipos diferentes na\n",
    "mesma coluna e facilita operações textuais. Para análises e limpeza de dados de texto, geralmente vale a pena."
   ]
  },
  {
   "cell_type": "markdown",
   "id": "30324734",
   "metadata": {},
   "source": [
    "# 9. Criar tabelas dinamicas (Pivolt Tables) com Pandas"
   ]
  },
  {
   "cell_type": "markdown",
   "id": "860b66d9",
   "metadata": {},
   "source": [
    "Tabelas dinamicas sao otimas para a tabela dinamica ficar mais interessante \n"
   ]
  },
  {
   "cell_type": "code",
   "execution_count": 52,
   "id": "bcaae60e",
   "metadata": {},
   "outputs": [],
   "source": [
    "dados_vendas = {\n",
    "    'Data': pd.to_datetime(['2025-09-01', '2025-09-01', '2025-09-02', '2025-09-02', '2025-09-01']),\n",
    "    'Região': ['Norte', 'Sul', 'Norte', 'Sul', 'Norte'],\n",
    "    'Vendedores': ['Ana', 'Carlos', 'Ana', 'Carlos', 'Pedro'],\n",
    "    'Vendas':[250, 300, 150, 400, 200]\n",
    "}"
   ]
  },
  {
   "cell_type": "code",
   "execution_count": 53,
   "id": "a6b49b59",
   "metadata": {},
   "outputs": [],
   "source": [
    "#Criar DataFrame\n",
    "df_vendas = pd.DataFrame(dados_vendas)\n"
   ]
  },
  {
   "cell_type": "code",
   "execution_count": 54,
   "id": "ce53aa48",
   "metadata": {},
   "outputs": [
    {
     "data": {
      "text/html": [
       "<div>\n",
       "<style scoped>\n",
       "    .dataframe tbody tr th:only-of-type {\n",
       "        vertical-align: middle;\n",
       "    }\n",
       "\n",
       "    .dataframe tbody tr th {\n",
       "        vertical-align: top;\n",
       "    }\n",
       "\n",
       "    .dataframe thead th {\n",
       "        text-align: right;\n",
       "    }\n",
       "</style>\n",
       "<table border=\"1\" class=\"dataframe\">\n",
       "  <thead>\n",
       "    <tr style=\"text-align: right;\">\n",
       "      <th></th>\n",
       "      <th>Data</th>\n",
       "      <th>Região</th>\n",
       "      <th>Vendedores</th>\n",
       "      <th>Vendas</th>\n",
       "    </tr>\n",
       "  </thead>\n",
       "  <tbody>\n",
       "    <tr>\n",
       "      <th>0</th>\n",
       "      <td>2025-09-01</td>\n",
       "      <td>Norte</td>\n",
       "      <td>Ana</td>\n",
       "      <td>250</td>\n",
       "    </tr>\n",
       "    <tr>\n",
       "      <th>1</th>\n",
       "      <td>2025-09-01</td>\n",
       "      <td>Sul</td>\n",
       "      <td>Carlos</td>\n",
       "      <td>300</td>\n",
       "    </tr>\n",
       "    <tr>\n",
       "      <th>2</th>\n",
       "      <td>2025-09-02</td>\n",
       "      <td>Norte</td>\n",
       "      <td>Ana</td>\n",
       "      <td>150</td>\n",
       "    </tr>\n",
       "    <tr>\n",
       "      <th>3</th>\n",
       "      <td>2025-09-02</td>\n",
       "      <td>Sul</td>\n",
       "      <td>Carlos</td>\n",
       "      <td>400</td>\n",
       "    </tr>\n",
       "    <tr>\n",
       "      <th>4</th>\n",
       "      <td>2025-09-01</td>\n",
       "      <td>Norte</td>\n",
       "      <td>Pedro</td>\n",
       "      <td>200</td>\n",
       "    </tr>\n",
       "  </tbody>\n",
       "</table>\n",
       "</div>"
      ],
      "text/plain": [
       "        Data Região Vendedores  Vendas\n",
       "0 2025-09-01  Norte        Ana     250\n",
       "1 2025-09-01    Sul     Carlos     300\n",
       "2 2025-09-02  Norte        Ana     150\n",
       "3 2025-09-02    Sul     Carlos     400\n",
       "4 2025-09-01  Norte      Pedro     200"
      ]
     },
     "execution_count": 54,
     "metadata": {},
     "output_type": "execute_result"
    }
   ],
   "source": [
    "df_vendas"
   ]
  },
  {
   "cell_type": "code",
   "execution_count": 55,
   "id": "2a38807b",
   "metadata": {},
   "outputs": [],
   "source": [
    "# Criar uma tabela dinaica para visualizar o total de vendas por regiao e venedor \n",
    "\n",
    "\n",
    "tabela_dinamica = df_vendas.pivot_table(\n",
    "    values='Vendas',\n",
    "    index='Região',\n",
    "    columns='Vendedores',\n",
    "    aggfunc='sum',\n",
    "    fill_value=0                    \n",
    "\n",
    "\n",
    ")\n",
    "\n"
   ]
  },
  {
   "cell_type": "code",
   "execution_count": 56,
   "id": "4a0e4dac",
   "metadata": {},
   "outputs": [
    {
     "name": "stdout",
     "output_type": "stream",
     "text": [
      "\n",
      "_________________Tabela Dinamica de Vendas por Região e Vendedor___________________\n",
      "\n"
     ]
    },
    {
     "data": {
      "text/html": [
       "<div>\n",
       "<style scoped>\n",
       "    .dataframe tbody tr th:only-of-type {\n",
       "        vertical-align: middle;\n",
       "    }\n",
       "\n",
       "    .dataframe tbody tr th {\n",
       "        vertical-align: top;\n",
       "    }\n",
       "\n",
       "    .dataframe thead th {\n",
       "        text-align: right;\n",
       "    }\n",
       "</style>\n",
       "<table border=\"1\" class=\"dataframe\">\n",
       "  <thead>\n",
       "    <tr style=\"text-align: right;\">\n",
       "      <th>Vendedores</th>\n",
       "      <th>Ana</th>\n",
       "      <th>Carlos</th>\n",
       "      <th>Pedro</th>\n",
       "    </tr>\n",
       "    <tr>\n",
       "      <th>Região</th>\n",
       "      <th></th>\n",
       "      <th></th>\n",
       "      <th></th>\n",
       "    </tr>\n",
       "  </thead>\n",
       "  <tbody>\n",
       "    <tr>\n",
       "      <th>Norte</th>\n",
       "      <td>400</td>\n",
       "      <td>0</td>\n",
       "      <td>200</td>\n",
       "    </tr>\n",
       "    <tr>\n",
       "      <th>Sul</th>\n",
       "      <td>0</td>\n",
       "      <td>700</td>\n",
       "      <td>0</td>\n",
       "    </tr>\n",
       "  </tbody>\n",
       "</table>\n",
       "</div>"
      ],
      "text/plain": [
       "Vendedores  Ana  Carlos  Pedro\n",
       "Região                        \n",
       "Norte       400       0    200\n",
       "Sul           0     700      0"
      ]
     },
     "execution_count": 56,
     "metadata": {},
     "output_type": "execute_result"
    }
   ],
   "source": [
    "print('\\n_________________Tabela Dinamica de Vendas por Região e Vendedor___________________\\n')\n",
    "tabela_dinamica"
   ]
  },
  {
   "cell_type": "markdown",
   "id": "e65ab1c8",
   "metadata": {},
   "source": [
    "# 10. Visualizacoes de Dados com Pandas e Matplotlib\n"
   ]
  },
  {
   "cell_type": "markdown",
   "id": "70202127",
   "metadata": {},
   "source": [
    "O Pandas "
   ]
  },
  {
   "cell_type": "code",
   "execution_count": 57,
   "id": "5833d3d6",
   "metadata": {},
   "outputs": [],
   "source": [
    "# E uma boa pratica executar comando em notebooks Jupyter para garantir que os graficos aparecam inline\n",
    "# Executamos esse comando para que o gráfico seja criado no Jupyter e não em outra aba\n",
    "%matplotlib inline\n"
   ]
  },
  {
   "cell_type": "code",
   "execution_count": 58,
   "id": "c9ebcdd0",
   "metadata": {},
   "outputs": [],
   "source": [
    "\n",
    "# Carregar novamente o dataFrame inicial\n",
    "df_dsa = pd. read_csv('dados_funcionarios_sem_indice.csv')\n"
   ]
  },
  {
   "cell_type": "code",
   "execution_count": null,
   "id": "af196481",
   "metadata": {},
   "outputs": [
    {
     "data": {
      "image/png": "[encoded data removed]",
      "text/plain": [
       "<Figure size 1200x500 with 1 Axes>"
      ]
     },
     "metadata": {},
     "output_type": "display_data"
    }
   ],
   "source": [
    "\n",
    "# Calcular a média de salário\n",
    "# kind - tipo de gráfico\n",
    "# figsize - largura e altura\n",
    "\n",
    "mediaSalarioCidade.plot(kind='bar',figsize=(12,5),color='skyblue')\n",
    "\n",
    "# Adicionar titulo e rótulos\n",
    "plt.title('Média Salarial por Cidade')\n",
    "plt.xlabel('Cidade')\n",
    "plt.ylabel('Média Salarial (R$)')\n",
    "plt.xticks(rotation=0)\n",
    "plt.grid(axis='y',linestyle='--')\n",
    "\n",
    "#Mostrar o grafico \n",
    "plt.show()"
   ]
  },
  {
   "cell_type": "code",
   "execution_count": 66,
   "id": "16d43f13",
   "metadata": {},
   "outputs": [],
   "source": [
    "#Contagem de registros (funcionarios)\n",
    "contagem_cidade = df_dsa['Cidade'].value_counts()\n"
   ]
  },
  {
   "cell_type": "code",
   "execution_count": 68,
   "id": "903781c1",
   "metadata": {},
   "outputs": [
    {
     "data": {
      "image/png": "[encoded data removed]",
      "text/plain": [
       "<Figure size 640x480 with 1 Axes>"
      ]
     },
     "metadata": {},
     "output_type": "display_data"
    }
   ],
   "source": [
    "contagem_cidade.plot(kind='pie',autopct='%1.1f%%',startangle=90)\n",
    "\n",
    "#autopct = mostra a porcentagem em cada fatia do grafico\n",
    "\n",
    "plt.title(\"Contagem de vendas por Cidade\")\n",
    "plt.show()"
   ]
  }
 ],
 "metadata": {
  "kernelspec": {
   "display_name": "Python 3",
   "language": "python",
   "name": "python3"
  },
  "language_info": {
   "codemirror_mode": {
    "name": "ipython",
    "version": 3
   },
   "file_extension": ".py",
   "mimetype": "text/x-python",
   "name": "python",
   "nbconvert_exporter": "python",
   "pygments_lexer": "ipython3",
   "version": "3.13.2"
  }
 },
 "nbformat": 4,
 "nbformat_minor": 5
}
